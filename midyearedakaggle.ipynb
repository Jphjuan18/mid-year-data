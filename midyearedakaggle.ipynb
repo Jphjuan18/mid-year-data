{
 "cells": [
  {
   "cell_type": "code",
   "execution_count": 1,
   "id": "8bbd322d",
   "metadata": {
    "execution": {
     "iopub.execute_input": "2022-09-16T20:20:37.686789Z",
     "iopub.status.busy": "2022-09-16T20:20:37.686278Z",
     "iopub.status.idle": "2022-09-16T20:20:39.478908Z",
     "shell.execute_reply": "2022-09-16T20:20:39.477618Z"
    },
    "papermill": {
     "duration": 1.80851,
     "end_time": "2022-09-16T20:20:39.481931",
     "exception": false,
     "start_time": "2022-09-16T20:20:37.673421",
     "status": "completed"
    },
    "tags": []
   },
   "outputs": [],
   "source": [
    "# Import dependencies\n",
    "import pandas as pd\n",
    "import numpy as np\n",
    "import re\n",
    "import nltk"
   ]
  },
  {
   "cell_type": "code",
   "execution_count": 2,
   "id": "a0ae4336",
   "metadata": {
    "execution": {
     "iopub.execute_input": "2022-09-16T20:20:39.503735Z",
     "iopub.status.busy": "2022-09-16T20:20:39.502835Z",
     "iopub.status.idle": "2022-09-16T20:20:39.507809Z",
     "shell.execute_reply": "2022-09-16T20:20:39.506641Z"
    },
    "papermill": {
     "duration": 0.018145,
     "end_time": "2022-09-16T20:20:39.510172",
     "exception": false,
     "start_time": "2022-09-16T20:20:39.492027",
     "status": "completed"
    },
    "tags": []
   },
   "outputs": [],
   "source": [
    "#import os\n",
    "#for dirname, _, filenames in os.walk('/kaggle/input'):\n",
    "#    for filename in filenames:\n",
    "#        print(os.path.join(dirname, filename))"
   ]
  },
  {
   "cell_type": "code",
   "execution_count": 3,
   "id": "2256bf92",
   "metadata": {
    "execution": {
     "iopub.execute_input": "2022-09-16T20:20:39.530757Z",
     "iopub.status.busy": "2022-09-16T20:20:39.530369Z",
     "iopub.status.idle": "2022-09-16T20:20:39.590769Z",
     "shell.execute_reply": "2022-09-16T20:20:39.589539Z"
    },
    "papermill": {
     "duration": 0.073851,
     "end_time": "2022-09-16T20:20:39.593486",
     "exception": false,
     "start_time": "2022-09-16T20:20:39.519635",
     "status": "completed"
    },
    "tags": []
   },
   "outputs": [],
   "source": [
    "df = pd.read_csv(\"/kaggle/input/midyeardata/midYearResidency.csv\", index_col=0)"
   ]
  },
  {
   "cell_type": "code",
   "execution_count": 4,
   "id": "15a45c28",
   "metadata": {
    "execution": {
     "iopub.execute_input": "2022-09-16T20:20:39.614570Z",
     "iopub.status.busy": "2022-09-16T20:20:39.614150Z",
     "iopub.status.idle": "2022-09-16T20:20:39.636761Z",
     "shell.execute_reply": "2022-09-16T20:20:39.635342Z"
    },
    "papermill": {
     "duration": 0.036711,
     "end_time": "2022-09-16T20:20:39.639991",
     "exception": false,
     "start_time": "2022-09-16T20:20:39.603280",
     "status": "completed"
    },
    "tags": []
   },
   "outputs": [
    {
     "name": "stdout",
     "output_type": "stream",
     "text": [
      "<class 'pandas.core.frame.DataFrame'>\n",
      "Int64Index: 520 entries, 0 to 519\n",
      "Data columns (total 18 columns):\n",
      " #   Column                                                      Non-Null Count  Dtype  \n",
      "---  ------                                                      --------------  -----  \n",
      " 0   Type of Program                                             519 non-null    object \n",
      " 1   Type of Residency                                           519 non-null    object \n",
      " 2   PGY1 Subtype                                                519 non-null    object \n",
      " 3   Primary Setting                                             508 non-null    object \n",
      " 4   Description of opportunity                                  519 non-null    object \n",
      " 5   Preceptor                                                   519 non-null    object \n",
      " 6   Institution                                                 519 non-null    object \n",
      " 7   Length (Yrs)                                                519 non-null    float64\n",
      " 8   Start Date                                                  519 non-null    object \n",
      " 9   Stipend                                                     499 non-null    object \n",
      " 10  Number of These Positions                                   519 non-null    float64\n",
      " 11  Number of OTHER postgraduate positions at program location  244 non-null    float64\n",
      " 12  Region                                                      504 non-null    object \n",
      " 13  Staffing hours per month                                    387 non-null    float64\n",
      " 14  Program Website                                             471 non-null    object \n",
      " 15  Contact                                                     519 non-null    object \n",
      " 16  Web ID                                                      519 non-null    object \n",
      " 17  Last Modified                                               519 non-null    object \n",
      "dtypes: float64(4), object(14)\n",
      "memory usage: 77.2+ KB\n"
     ]
    }
   ],
   "source": [
    "df.info()"
   ]
  },
  {
   "cell_type": "code",
   "execution_count": 5,
   "id": "46ff31ad",
   "metadata": {
    "execution": {
     "iopub.execute_input": "2022-09-16T20:20:39.662722Z",
     "iopub.status.busy": "2022-09-16T20:20:39.661877Z",
     "iopub.status.idle": "2022-09-16T20:20:39.674560Z",
     "shell.execute_reply": "2022-09-16T20:20:39.673454Z"
    },
    "papermill": {
     "duration": 0.0258,
     "end_time": "2022-09-16T20:20:39.676689",
     "exception": false,
     "start_time": "2022-09-16T20:20:39.650889",
     "status": "completed"
    },
    "tags": []
   },
   "outputs": [
    {
     "data": {
      "text/plain": [
       "Type of Program                                                 1\n",
       "Type of Residency                                               1\n",
       "PGY1 Subtype                                                    1\n",
       "Primary Setting                                                12\n",
       "Description of opportunity                                      1\n",
       "Preceptor                                                       1\n",
       "Institution                                                     1\n",
       "Length (Yrs)                                                    1\n",
       "Start Date                                                      1\n",
       "Stipend                                                        21\n",
       "Number of These Positions                                       1\n",
       "Number of OTHER postgraduate positions at program location    276\n",
       "Region                                                         16\n",
       "Staffing hours per month                                      133\n",
       "Program Website                                                49\n",
       "Contact                                                         1\n",
       "Web ID                                                          1\n",
       "Last Modified                                                   1\n",
       "dtype: int64"
      ]
     },
     "execution_count": 5,
     "metadata": {},
     "output_type": "execute_result"
    }
   ],
   "source": [
    "# Find missing values in data\n",
    "df.isna().sum()"
   ]
  },
  {
   "cell_type": "markdown",
   "id": "6dbfc5f0",
   "metadata": {
    "papermill": {
     "duration": 0.009524,
     "end_time": "2022-09-16T20:20:39.696069",
     "exception": false,
     "start_time": "2022-09-16T20:20:39.686545",
     "status": "completed"
    },
    "tags": []
   },
   "source": [
    "# Fill empty values with average stipend"
   ]
  },
  {
   "cell_type": "code",
   "execution_count": 6,
   "id": "857efdb6",
   "metadata": {
    "execution": {
     "iopub.execute_input": "2022-09-16T20:20:39.718445Z",
     "iopub.status.busy": "2022-09-16T20:20:39.717505Z",
     "iopub.status.idle": "2022-09-16T20:20:39.724829Z",
     "shell.execute_reply": "2022-09-16T20:20:39.723301Z"
    },
    "papermill": {
     "duration": 0.021113,
     "end_time": "2022-09-16T20:20:39.727372",
     "exception": false,
     "start_time": "2022-09-16T20:20:39.706259",
     "status": "completed"
    },
    "tags": []
   },
   "outputs": [],
   "source": [
    "# Clean empty stipend values\n",
    "df['Stipend'] = df['Stipend'].fillna(\"$0.00\")"
   ]
  },
  {
   "cell_type": "code",
   "execution_count": 7,
   "id": "c2b46619",
   "metadata": {
    "execution": {
     "iopub.execute_input": "2022-09-16T20:20:39.749566Z",
     "iopub.status.busy": "2022-09-16T20:20:39.749121Z",
     "iopub.status.idle": "2022-09-16T20:20:39.783180Z",
     "shell.execute_reply": "2022-09-16T20:20:39.781977Z"
    },
    "papermill": {
     "duration": 0.047885,
     "end_time": "2022-09-16T20:20:39.785603",
     "exception": false,
     "start_time": "2022-09-16T20:20:39.737718",
     "status": "completed"
    },
    "tags": []
   },
   "outputs": [
    {
     "data": {
      "text/html": [
       "<div>\n",
       "<style scoped>\n",
       "    .dataframe tbody tr th:only-of-type {\n",
       "        vertical-align: middle;\n",
       "    }\n",
       "\n",
       "    .dataframe tbody tr th {\n",
       "        vertical-align: top;\n",
       "    }\n",
       "\n",
       "    .dataframe thead th {\n",
       "        text-align: right;\n",
       "    }\n",
       "</style>\n",
       "<table border=\"1\" class=\"dataframe\">\n",
       "  <thead>\n",
       "    <tr style=\"text-align: right;\">\n",
       "      <th></th>\n",
       "      <th>Institution</th>\n",
       "      <th>Region</th>\n",
       "      <th>Stipend</th>\n",
       "      <th>Description of opportunity</th>\n",
       "    </tr>\n",
       "  </thead>\n",
       "  <tbody>\n",
       "    <tr>\n",
       "      <th>0</th>\n",
       "      <td>Princeton Baptist Medical Center</td>\n",
       "      <td>Southeast</td>\n",
       "      <td>$47,000.00</td>\n",
       "      <td>This residency emphasizes training in the over...</td>\n",
       "    </tr>\n",
       "    <tr>\n",
       "      <th>1</th>\n",
       "      <td>Children's of Alabama</td>\n",
       "      <td>Southeast</td>\n",
       "      <td>$55,162.00</td>\n",
       "      <td>ASHP-accredited PGY-1 residency program prepar...</td>\n",
       "    </tr>\n",
       "    <tr>\n",
       "      <th>2</th>\n",
       "      <td>Birmingham VA Health Care System</td>\n",
       "      <td>Southeast</td>\n",
       "      <td>$43,618.00</td>\n",
       "      <td>This PGY1 pharmacy residency is designed to fo...</td>\n",
       "    </tr>\n",
       "    <tr>\n",
       "      <th>3</th>\n",
       "      <td>Jackson Hospital</td>\n",
       "      <td>Southeast</td>\n",
       "      <td>$48,500.00</td>\n",
       "      <td>Pharmacists completing this residency program ...</td>\n",
       "    </tr>\n",
       "    <tr>\n",
       "      <th>4</th>\n",
       "      <td>Ascension St. Vincent's</td>\n",
       "      <td>Southeast</td>\n",
       "      <td>$47,480.00</td>\n",
       "      <td>he goals of Ascension St. Vincent's PGY1 Pharm...</td>\n",
       "    </tr>\n",
       "    <tr>\n",
       "      <th>...</th>\n",
       "      <td>...</td>\n",
       "      <td>...</td>\n",
       "      <td>...</td>\n",
       "      <td>...</td>\n",
       "    </tr>\n",
       "    <tr>\n",
       "      <th>515</th>\n",
       "      <td>VAMC - Beckley, WV</td>\n",
       "      <td>Southeast</td>\n",
       "      <td>$0.00</td>\n",
       "      <td>The purpose of our ASHP-accredited PGY1 Reside...</td>\n",
       "    </tr>\n",
       "    <tr>\n",
       "      <th>516</th>\n",
       "      <td>WVU Medicine – WVU Hospitals</td>\n",
       "      <td>Northeast</td>\n",
       "      <td>$47,000.00</td>\n",
       "      <td>Our PGY1 residency is a 12-month curriculum th...</td>\n",
       "    </tr>\n",
       "    <tr>\n",
       "      <th>517</th>\n",
       "      <td>Charleston Area Medical Center</td>\n",
       "      <td>Southeast</td>\n",
       "      <td>$44,311.00</td>\n",
       "      <td>The CAMC PGY1 resident will complete clinical ...</td>\n",
       "    </tr>\n",
       "    <tr>\n",
       "      <th>518</th>\n",
       "      <td>Cheyenne Regional Medical Center</td>\n",
       "      <td>Rocky Mountain</td>\n",
       "      <td>$48,000.00</td>\n",
       "      <td>When you come to Cheyenne Regional Medical Cen...</td>\n",
       "    </tr>\n",
       "    <tr>\n",
       "      <th>519</th>\n",
       "      <td>NaN</td>\n",
       "      <td>NaN</td>\n",
       "      <td>$0.00</td>\n",
       "      <td>NaN</td>\n",
       "    </tr>\n",
       "  </tbody>\n",
       "</table>\n",
       "<p>520 rows × 4 columns</p>\n",
       "</div>"
      ],
      "text/plain": [
       "                          Institution          Region     Stipend  \\\n",
       "0    Princeton Baptist Medical Center       Southeast  $47,000.00   \n",
       "1               Children's of Alabama       Southeast  $55,162.00   \n",
       "2    Birmingham VA Health Care System       Southeast  $43,618.00   \n",
       "3                    Jackson Hospital       Southeast  $48,500.00   \n",
       "4             Ascension St. Vincent's       Southeast  $47,480.00   \n",
       "..                                ...             ...         ...   \n",
       "515                VAMC - Beckley, WV       Southeast       $0.00   \n",
       "516      WVU Medicine – WVU Hospitals       Northeast  $47,000.00   \n",
       "517    Charleston Area Medical Center       Southeast  $44,311.00   \n",
       "518  Cheyenne Regional Medical Center  Rocky Mountain  $48,000.00   \n",
       "519                               NaN             NaN       $0.00   \n",
       "\n",
       "                            Description of opportunity  \n",
       "0    This residency emphasizes training in the over...  \n",
       "1    ASHP-accredited PGY-1 residency program prepar...  \n",
       "2    This PGY1 pharmacy residency is designed to fo...  \n",
       "3    Pharmacists completing this residency program ...  \n",
       "4    he goals of Ascension St. Vincent's PGY1 Pharm...  \n",
       "..                                                 ...  \n",
       "515  The purpose of our ASHP-accredited PGY1 Reside...  \n",
       "516  Our PGY1 residency is a 12-month curriculum th...  \n",
       "517  The CAMC PGY1 resident will complete clinical ...  \n",
       "518  When you come to Cheyenne Regional Medical Cen...  \n",
       "519                                                NaN  \n",
       "\n",
       "[520 rows x 4 columns]"
      ]
     },
     "execution_count": 7,
     "metadata": {},
     "output_type": "execute_result"
    }
   ],
   "source": [
    "# Create Series by assigning names\n",
    "Region = pd.Series(df[\"Region\"])\n",
    "Institution = pd.Series(df[\"Institution\"])\n",
    "Stipend = pd.Series(df[\"Stipend\"])\n",
    "Description_of_opportunity = pd.Series(df[\"Description of opportunity\"])\n",
    "\n",
    "# using pandas series merge()\n",
    "df2 = pd.merge(Institution, Region, right_index = True,\n",
    "               left_index = True)\n",
    "\n",
    "# using pandas series merge()\n",
    "df2 = pd.merge(df2, Stipend, right_index = True,\n",
    "               left_index = True)    \n",
    "                          \n",
    "# using pandas series merge()\n",
    "df2 = pd.merge(df2, Description_of_opportunity, right_index = True,\n",
    "               left_index = True)    \n",
    "               \n",
    "df2"
   ]
  },
  {
   "cell_type": "code",
   "execution_count": 8,
   "id": "d6ddc943",
   "metadata": {
    "execution": {
     "iopub.execute_input": "2022-09-16T20:20:39.808479Z",
     "iopub.status.busy": "2022-09-16T20:20:39.808056Z",
     "iopub.status.idle": "2022-09-16T20:20:39.813092Z",
     "shell.execute_reply": "2022-09-16T20:20:39.811676Z"
    },
    "papermill": {
     "duration": 0.019465,
     "end_time": "2022-09-16T20:20:39.815448",
     "exception": false,
     "start_time": "2022-09-16T20:20:39.795983",
     "status": "completed"
    },
    "tags": []
   },
   "outputs": [],
   "source": [
    "stipend = []"
   ]
  },
  {
   "cell_type": "code",
   "execution_count": 9,
   "id": "31d5aa6f",
   "metadata": {
    "execution": {
     "iopub.execute_input": "2022-09-16T20:20:39.839356Z",
     "iopub.status.busy": "2022-09-16T20:20:39.838913Z",
     "iopub.status.idle": "2022-09-16T20:20:39.847224Z",
     "shell.execute_reply": "2022-09-16T20:20:39.845923Z"
    },
    "papermill": {
     "duration": 0.02374,
     "end_time": "2022-09-16T20:20:39.850269",
     "exception": false,
     "start_time": "2022-09-16T20:20:39.826529",
     "status": "completed"
    },
    "tags": []
   },
   "outputs": [
    {
     "name": "stdout",
     "output_type": "stream",
     "text": [
      "[47000, 55162, 43618, 48500, 47480, 45000, 47840, 45000, 50000, 49000, 41166, 45000, 0, 43680, 47840, 0, 0, 41742, 42000, 0, 46000, 41742, 0, 47000, 50000, 47740, 51000, 50000, 42188, 53591, 40000, 62000, 52000, 58000, 50000, 58000, 58000, 50000, 48000, 53800, 52000, 52000, 56650, 55854, 50918, 0, 48630, 61000, 61000, 55854, 47668, 48630, 61000, 50000, 56160, 56000, 62000, 48630, 56848, 58350, 50918, 48630, 61300, 48700, 48500, 47500, 50000, 62700, 50000, 62000, 0, 50000, 65700, 54000, 48006, 50000, 47500, 55902, 53000, 48000, 58240, 54000, 51000, 47486, 48000, 47486, 47500, 49000, 47000, 52000, 49000, 0, 50000, 41742, 47500, 41742, 54000, 0, 49000, 49000, 47500, 49000, 41500, 52000, 48006, 51000, 49375, 53000, 0, 52000, 50274, 0, 51000, 57000, 49275, 47000, 55000, 48500, 41742, 41742, 48500, 47476, 48000, 41742, 46500, 47500, 50336, 0, 0, 46292, 48000, 48000, 50000, 47500, 47500, 47840, 50100, 46000, 48000, 48000, 40000, 49566, 49000, 49920, 48000, 47736, 48900, 50659, 50659, 42400, 52000, 49920, 50000, 48000, 50000, 50000, 49566, 45500, 45000, 47480, 50000, 48000, 0, 48800, 47500, 48000, 50000, 41742, 47955, 41742, 47500, 47955, 48000, 47955, 48500, 42000, 48000, 40000, 40000, 47500, 48500, 54000, 47000, 52000, 52000, 51440, 49400, 50000, 50200, 46973, 47840, 0, 0, 54000, 52000, 51000, 48500, 46450, 51000, 50000, 51000, 48000, 48700, 47000, 47500, 48880, 0, 50627, 45835, 47840, 41742, 45000, 47486, 0, 47486, 52000, 47000, 47000, 52000, 51000, 50000, 44400, 51000, 49393, 47486, 50000, 48000, 53040, 44878, 51000, 47000, 42167, 50000, 45000, 47476, 49000, 0, 50000, 47486, 42354, 49849, 55000, 47486, 46500, 46500, 46000, 60000, 0, 41500, 41500, 46000, 42000, 40000, 47840, 50211, 54000, 50211, 48000, 48700, 51000, 47500, 47500, 48000, 48464, 41742, 0, 49000, 48687, 48687, 42278, 50398, 48000, 48526, 48526, 49420, 0, 0, 41742, 52000, 51168, 45000, 50000, 45000, 51345, 45000, 47000, 47486, 47300, 51500, 50000, 0, 50000, 47500, 42000, 47000, 47500, 42000, 47000, 45000, 50000, 51000, 47195, 0, 50000, 49000, 42437, 47500, 50000, 48600, 55000, 47500, 47500, 51126, 42000, 47500, 51500, 47508, 58500, 49000, 41000, 48750, 44500, 42000, 51480, 0, 50000, 0, 48000, 0, 0, 51000, 52000, 51000, 47500, 49000, 45000, 49000, 49000, 51000, 51500, 51000, 52000, 47900, 48000, 49000, 40000, 0, 43495, 48000, 49000, 47500, 47500, 47500, 47500, 47500, 47466, 52000, 49000, 47500, 49000, 49000, 49000, 49000, 0, 49000, 53000, 47480, 47476, 45000, 41742, 47476, 43500, 47000, 57000, 0, 51000, 65210, 51000, 50000, 47476, 42984, 47860, 64181, 47860, 44000, 47476, 47500, 52150, 47860, 44000, 0, 0, 51000, 44000, 50000, 47476, 48650, 42500, 42500, 47500, 0, 48818, 0, 55000, 1920, 41166, 0, 41500, 49920, 49500, 49900, 51500, 47495, 41712, 47840, 55120, 80000, 57158, 52000, 55000, 47000, 51100, 47476, 46000, 47000, 0, 0, 0, 47000, 44000, 44553, 47500, 51421, 41533, 47500, 41742, 54101, 0, 0, 50000, 0, 62000, 47000, 0, 60000, 40000, 60000, 47000, 46900, 55000, 47995, 41000, 53000, 52900, 0, 0, 48000, 47000, 47000, 42000, 60320, 0, 43441, 48000, 55954, 55954, 50004, 50000, 42000, 56000, 56000, 0, 41944, 47500, 41000, 47800, 42997, 45000, 47500, 50232, 45760, 51500, 0, 48000, 51250, 72564, 50000, 47500, 54000, 41500, 55931, 0, 56000, 0, 49000, 0, 0, 0, 50000, 52900, 51000, 46800, 46800, 46800, 46800, 47500, 51000, 41742, 41742, 54000, 49000, 0, 47750, 41742, 49557, 0, 47000, 44311, 48000, 0]\n"
     ]
    }
   ],
   "source": [
    "for x in df2[\"Stipend\"]: \n",
    "    x = x[1:]\n",
    "    y = re.sub('[,]', \"\", x[0:-3])\n",
    "    stipend.append(int(y))\n",
    "   \n",
    "print(stipend)"
   ]
  },
  {
   "cell_type": "code",
   "execution_count": 10,
   "id": "e4c40a4b",
   "metadata": {
    "execution": {
     "iopub.execute_input": "2022-09-16T20:20:39.873387Z",
     "iopub.status.busy": "2022-09-16T20:20:39.872974Z",
     "iopub.status.idle": "2022-09-16T20:20:39.880015Z",
     "shell.execute_reply": "2022-09-16T20:20:39.878969Z"
    },
    "papermill": {
     "duration": 0.02226,
     "end_time": "2022-09-16T20:20:39.883278",
     "exception": false,
     "start_time": "2022-09-16T20:20:39.861018",
     "status": "completed"
    },
    "tags": []
   },
   "outputs": [
    {
     "name": "stdout",
     "output_type": "stream",
     "text": [
      "Total Stipend Value: 22616312\n",
      "Average Stipend: 48847.326133909286\n"
     ]
    }
   ],
   "source": [
    "# Get average stipend\n",
    "total = 0\n",
    "average = 0\n",
    "for x in stipend:    \n",
    "    \n",
    "    if x == 0:\n",
    "       pass\n",
    "    else:\n",
    "        total+=x\n",
    "        average +=1\n",
    "    \n",
    "print(f\"Total Stipend Value: {total}\")\n",
    "print(f\"Average Stipend: {total/average}\")"
   ]
  },
  {
   "cell_type": "code",
   "execution_count": 11,
   "id": "dc126abe",
   "metadata": {
    "execution": {
     "iopub.execute_input": "2022-09-16T20:20:39.905794Z",
     "iopub.status.busy": "2022-09-16T20:20:39.905393Z",
     "iopub.status.idle": "2022-09-16T20:20:39.913437Z",
     "shell.execute_reply": "2022-09-16T20:20:39.912162Z"
    },
    "papermill": {
     "duration": 0.022255,
     "end_time": "2022-09-16T20:20:39.915941",
     "exception": false,
     "start_time": "2022-09-16T20:20:39.893686",
     "status": "completed"
    },
    "tags": []
   },
   "outputs": [],
   "source": [
    "df2.drop(columns=\"Stipend\", inplace=True)\n",
    "df2[\"Stipend\"] = stipend"
   ]
  },
  {
   "cell_type": "code",
   "execution_count": 12,
   "id": "a0781306",
   "metadata": {
    "execution": {
     "iopub.execute_input": "2022-09-16T20:20:39.939319Z",
     "iopub.status.busy": "2022-09-16T20:20:39.938887Z",
     "iopub.status.idle": "2022-09-16T20:20:39.985670Z",
     "shell.execute_reply": "2022-09-16T20:20:39.982616Z"
    },
    "papermill": {
     "duration": 0.06147,
     "end_time": "2022-09-16T20:20:39.988331",
     "exception": false,
     "start_time": "2022-09-16T20:20:39.926861",
     "status": "completed"
    },
    "tags": []
   },
   "outputs": [
    {
     "name": "stderr",
     "output_type": "stream",
     "text": [
      "/opt/conda/lib/python3.7/site-packages/pandas/core/indexing.py:1732: SettingWithCopyWarning: \n",
      "A value is trying to be set on a copy of a slice from a DataFrame\n",
      "\n",
      "See the caveats in the documentation: https://pandas.pydata.org/pandas-docs/stable/user_guide/indexing.html#returning-a-view-versus-a-copy\n",
      "  self._setitem_single_block(indexer, value, name)\n"
     ]
    }
   ],
   "source": [
    "#Replace missing values with average stipend\n",
    "for x in range(0,len(df2[\"Stipend\"])):\n",
    "    if df2[\"Stipend\"].loc[x] == 0:\n",
    "        df2[\"Stipend\"].loc[x] = 52945\n",
    "    else:\n",
    "        pass"
   ]
  },
  {
   "cell_type": "code",
   "execution_count": 13,
   "id": "8b0eee4d",
   "metadata": {
    "execution": {
     "iopub.execute_input": "2022-09-16T20:20:40.011398Z",
     "iopub.status.busy": "2022-09-16T20:20:40.010979Z",
     "iopub.status.idle": "2022-09-16T20:20:40.021001Z",
     "shell.execute_reply": "2022-09-16T20:20:40.019734Z"
    },
    "papermill": {
     "duration": 0.02492,
     "end_time": "2022-09-16T20:20:40.023764",
     "exception": false,
     "start_time": "2022-09-16T20:20:39.998844",
     "status": "completed"
    },
    "tags": []
   },
   "outputs": [
    {
     "data": {
      "text/plain": [
       "Institution                    1\n",
       "Region                        16\n",
       "Description of opportunity     1\n",
       "Stipend                        0\n",
       "dtype: int64"
      ]
     },
     "execution_count": 13,
     "metadata": {},
     "output_type": "execute_result"
    }
   ],
   "source": [
    "df2.isna().sum()"
   ]
  },
  {
   "cell_type": "markdown",
   "id": "08d53b72",
   "metadata": {
    "papermill": {
     "duration": 0.010613,
     "end_time": "2022-09-16T20:20:40.045273",
     "exception": false,
     "start_time": "2022-09-16T20:20:40.034660",
     "status": "completed"
    },
    "tags": []
   },
   "source": [
    "# # Find amount of opportunities available per region  "
   ]
  },
  {
   "cell_type": "code",
   "execution_count": 14,
   "id": "f86103ea",
   "metadata": {
    "execution": {
     "iopub.execute_input": "2022-09-16T20:20:40.068803Z",
     "iopub.status.busy": "2022-09-16T20:20:40.068393Z",
     "iopub.status.idle": "2022-09-16T20:20:40.073818Z",
     "shell.execute_reply": "2022-09-16T20:20:40.072546Z"
    },
    "papermill": {
     "duration": 0.020405,
     "end_time": "2022-09-16T20:20:40.076290",
     "exception": false,
     "start_time": "2022-09-16T20:20:40.055885",
     "status": "completed"
    },
    "tags": []
   },
   "outputs": [],
   "source": [
    "Region_list = ['Pacific', 'Midwest', 'Southeast', 'Rocky Mountain', 'Northeast']"
   ]
  },
  {
   "cell_type": "code",
   "execution_count": 15,
   "id": "ee69a501",
   "metadata": {
    "execution": {
     "iopub.execute_input": "2022-09-16T20:20:40.099677Z",
     "iopub.status.busy": "2022-09-16T20:20:40.099264Z",
     "iopub.status.idle": "2022-09-16T20:20:40.141322Z",
     "shell.execute_reply": "2022-09-16T20:20:40.139913Z"
    },
    "papermill": {
     "duration": 0.057026,
     "end_time": "2022-09-16T20:20:40.144015",
     "exception": false,
     "start_time": "2022-09-16T20:20:40.086989",
     "status": "completed"
    },
    "tags": []
   },
   "outputs": [],
   "source": [
    "# Replace unknown region with unknown\n",
    "for x in range(0,len(df2[\"Region\"])):\n",
    "    if df2[\"Region\"].loc[x] not in Region_list:\n",
    "        df2[\"Region\"].loc[x] = 'Unknown'\n",
    "    else:\n",
    "        pass"
   ]
  },
  {
   "cell_type": "code",
   "execution_count": 16,
   "id": "ff0a2480",
   "metadata": {
    "execution": {
     "iopub.execute_input": "2022-09-16T20:20:40.167574Z",
     "iopub.status.busy": "2022-09-16T20:20:40.167185Z",
     "iopub.status.idle": "2022-09-16T20:20:40.175586Z",
     "shell.execute_reply": "2022-09-16T20:20:40.174717Z"
    },
    "papermill": {
     "duration": 0.023043,
     "end_time": "2022-09-16T20:20:40.177717",
     "exception": false,
     "start_time": "2022-09-16T20:20:40.154674",
     "status": "completed"
    },
    "tags": []
   },
   "outputs": [],
   "source": [
    "df2.dropna(inplace=True)"
   ]
  },
  {
   "cell_type": "code",
   "execution_count": 17,
   "id": "f0e34de2",
   "metadata": {
    "execution": {
     "iopub.execute_input": "2022-09-16T20:20:40.200463Z",
     "iopub.status.busy": "2022-09-16T20:20:40.200082Z",
     "iopub.status.idle": "2022-09-16T20:20:40.209108Z",
     "shell.execute_reply": "2022-09-16T20:20:40.208000Z"
    },
    "papermill": {
     "duration": 0.023091,
     "end_time": "2022-09-16T20:20:40.211345",
     "exception": false,
     "start_time": "2022-09-16T20:20:40.188254",
     "status": "completed"
    },
    "tags": []
   },
   "outputs": [
    {
     "data": {
      "text/plain": [
       "Institution                   0\n",
       "Region                        0\n",
       "Description of opportunity    0\n",
       "Stipend                       0\n",
       "dtype: int64"
      ]
     },
     "execution_count": 17,
     "metadata": {},
     "output_type": "execute_result"
    }
   ],
   "source": [
    "df2.isna().sum()"
   ]
  },
  {
   "cell_type": "code",
   "execution_count": 18,
   "id": "e5eabbaf",
   "metadata": {
    "execution": {
     "iopub.execute_input": "2022-09-16T20:20:40.234329Z",
     "iopub.status.busy": "2022-09-16T20:20:40.233924Z",
     "iopub.status.idle": "2022-09-16T20:20:40.247099Z",
     "shell.execute_reply": "2022-09-16T20:20:40.246000Z"
    },
    "papermill": {
     "duration": 0.027589,
     "end_time": "2022-09-16T20:20:40.249413",
     "exception": false,
     "start_time": "2022-09-16T20:20:40.221824",
     "status": "completed"
    },
    "tags": []
   },
   "outputs": [
    {
     "data": {
      "text/html": [
       "<div>\n",
       "<style scoped>\n",
       "    .dataframe tbody tr th:only-of-type {\n",
       "        vertical-align: middle;\n",
       "    }\n",
       "\n",
       "    .dataframe tbody tr th {\n",
       "        vertical-align: top;\n",
       "    }\n",
       "\n",
       "    .dataframe thead th {\n",
       "        text-align: right;\n",
       "    }\n",
       "</style>\n",
       "<table border=\"1\" class=\"dataframe\">\n",
       "  <thead>\n",
       "    <tr style=\"text-align: right;\">\n",
       "      <th></th>\n",
       "      <th>Institution</th>\n",
       "      <th>Description of opportunity</th>\n",
       "      <th>Stipend</th>\n",
       "    </tr>\n",
       "    <tr>\n",
       "      <th>Region</th>\n",
       "      <th></th>\n",
       "      <th></th>\n",
       "      <th></th>\n",
       "    </tr>\n",
       "  </thead>\n",
       "  <tbody>\n",
       "    <tr>\n",
       "      <th>Midwest</th>\n",
       "      <td>167</td>\n",
       "      <td>167</td>\n",
       "      <td>167</td>\n",
       "    </tr>\n",
       "    <tr>\n",
       "      <th>Northeast</th>\n",
       "      <td>88</td>\n",
       "      <td>88</td>\n",
       "      <td>88</td>\n",
       "    </tr>\n",
       "    <tr>\n",
       "      <th>Pacific</th>\n",
       "      <td>40</td>\n",
       "      <td>40</td>\n",
       "      <td>40</td>\n",
       "    </tr>\n",
       "    <tr>\n",
       "      <th>Rocky Mountain</th>\n",
       "      <td>18</td>\n",
       "      <td>18</td>\n",
       "      <td>18</td>\n",
       "    </tr>\n",
       "    <tr>\n",
       "      <th>Southeast</th>\n",
       "      <td>150</td>\n",
       "      <td>150</td>\n",
       "      <td>150</td>\n",
       "    </tr>\n",
       "    <tr>\n",
       "      <th>Unknown</th>\n",
       "      <td>56</td>\n",
       "      <td>56</td>\n",
       "      <td>56</td>\n",
       "    </tr>\n",
       "  </tbody>\n",
       "</table>\n",
       "</div>"
      ],
      "text/plain": [
       "                Institution  Description of opportunity  Stipend\n",
       "Region                                                          \n",
       "Midwest                 167                         167      167\n",
       "Northeast                88                          88       88\n",
       "Pacific                  40                          40       40\n",
       "Rocky Mountain           18                          18       18\n",
       "Southeast               150                         150      150\n",
       "Unknown                  56                          56       56"
      ]
     },
     "execution_count": 18,
     "metadata": {},
     "output_type": "execute_result"
    }
   ],
   "source": [
    "# Amount of opportunities available per region \n",
    "df2.groupby(by='Region').agg('count')"
   ]
  },
  {
   "cell_type": "markdown",
   "id": "d5f13e1f",
   "metadata": {
    "papermill": {
     "duration": 0.010453,
     "end_time": "2022-09-16T20:20:40.270522",
     "exception": false,
     "start_time": "2022-09-16T20:20:40.260069",
     "status": "completed"
    },
    "tags": []
   },
   "source": [
    "# Find most common words in description"
   ]
  },
  {
   "cell_type": "code",
   "execution_count": 19,
   "id": "5af40b88",
   "metadata": {
    "execution": {
     "iopub.execute_input": "2022-09-16T20:20:40.293484Z",
     "iopub.status.busy": "2022-09-16T20:20:40.293060Z",
     "iopub.status.idle": "2022-09-16T20:20:40.299124Z",
     "shell.execute_reply": "2022-09-16T20:20:40.297853Z"
    },
    "papermill": {
     "duration": 0.020149,
     "end_time": "2022-09-16T20:20:40.301307",
     "exception": false,
     "start_time": "2022-09-16T20:20:40.281158",
     "status": "completed"
    },
    "tags": []
   },
   "outputs": [],
   "source": [
    "from nltk.tokenize import sent_tokenize, word_tokenize\n",
    "from nltk.corpus import stopwords\n",
    "import re\n",
    "#stops = set(stopwords.words('english'))\n",
    "#print(stops)"
   ]
  },
  {
   "cell_type": "code",
   "execution_count": 20,
   "id": "5a0a7a07",
   "metadata": {
    "execution": {
     "iopub.execute_input": "2022-09-16T20:20:40.324692Z",
     "iopub.status.busy": "2022-09-16T20:20:40.324249Z",
     "iopub.status.idle": "2022-09-16T20:20:40.329614Z",
     "shell.execute_reply": "2022-09-16T20:20:40.328439Z"
    },
    "papermill": {
     "duration": 0.019758,
     "end_time": "2022-09-16T20:20:40.331816",
     "exception": false,
     "start_time": "2022-09-16T20:20:40.312058",
     "status": "completed"
    },
    "tags": []
   },
   "outputs": [],
   "source": [
    "tokens_list = []"
   ]
  },
  {
   "cell_type": "code",
   "execution_count": 21,
   "id": "15e7b1c9",
   "metadata": {
    "execution": {
     "iopub.execute_input": "2022-09-16T20:20:40.355170Z",
     "iopub.status.busy": "2022-09-16T20:20:40.354716Z",
     "iopub.status.idle": "2022-09-16T20:20:40.371306Z",
     "shell.execute_reply": "2022-09-16T20:20:40.369671Z"
    },
    "papermill": {
     "duration": 0.031256,
     "end_time": "2022-09-16T20:20:40.373845",
     "exception": false,
     "start_time": "2022-09-16T20:20:40.342589",
     "status": "completed"
    },
    "tags": []
   },
   "outputs": [],
   "source": [
    "for x in range(0,len(df2[\"Description of opportunity\"])):\n",
    "    t = df2[\"Description of opportunity\"].loc[x] \n",
    "    tokens_list.append(t)\n",
    "    #tokens = nltk.word_tokenize(df2[\"Description of opportunity\"][0])"
   ]
  },
  {
   "cell_type": "code",
   "execution_count": 22,
   "id": "a7d3fe47",
   "metadata": {
    "execution": {
     "iopub.execute_input": "2022-09-16T20:20:40.398961Z",
     "iopub.status.busy": "2022-09-16T20:20:40.397965Z",
     "iopub.status.idle": "2022-09-16T20:20:40.969865Z",
     "shell.execute_reply": "2022-09-16T20:20:40.968575Z"
    },
    "papermill": {
     "duration": 0.588158,
     "end_time": "2022-09-16T20:20:40.972782",
     "exception": false,
     "start_time": "2022-09-16T20:20:40.384624",
     "status": "completed"
    },
    "tags": []
   },
   "outputs": [],
   "source": [
    "token_words = ' '.join(tokens_list)\n",
    "tokens = nltk.word_tokenize(token_words)\n",
    "token_l = nltk.Text(tokens)"
   ]
  },
  {
   "cell_type": "code",
   "execution_count": 23,
   "id": "8272d3dc",
   "metadata": {
    "execution": {
     "iopub.execute_input": "2022-09-16T20:20:40.996631Z",
     "iopub.status.busy": "2022-09-16T20:20:40.996193Z",
     "iopub.status.idle": "2022-09-16T20:20:41.000847Z",
     "shell.execute_reply": "2022-09-16T20:20:40.999436Z"
    },
    "papermill": {
     "duration": 0.019574,
     "end_time": "2022-09-16T20:20:41.003224",
     "exception": false,
     "start_time": "2022-09-16T20:20:40.983650",
     "status": "completed"
    },
    "tags": []
   },
   "outputs": [],
   "source": [
    "# Export text to .txt file\n",
    "#f= open(\"Residency.txt\",\"w+\")\n",
    "#for i  in token_words:\n",
    "#    f.write(i)\n",
    "#f.close()"
   ]
  },
  {
   "cell_type": "code",
   "execution_count": 24,
   "id": "c5155931",
   "metadata": {
    "execution": {
     "iopub.execute_input": "2022-09-16T20:20:41.027310Z",
     "iopub.status.busy": "2022-09-16T20:20:41.026886Z",
     "iopub.status.idle": "2022-09-16T20:20:41.033282Z",
     "shell.execute_reply": "2022-09-16T20:20:41.031999Z"
    },
    "papermill": {
     "duration": 0.023363,
     "end_time": "2022-09-16T20:20:41.037665",
     "exception": false,
     "start_time": "2022-09-16T20:20:41.014302",
     "status": "completed"
    },
    "tags": []
   },
   "outputs": [
    {
     "name": "stdout",
     "output_type": "stream",
     "text": [
      "<class 'nltk.text.Text'>\n"
     ]
    }
   ],
   "source": [
    "print(type(token_l))"
   ]
  },
  {
   "cell_type": "code",
   "execution_count": 25,
   "id": "4cbe6702",
   "metadata": {
    "execution": {
     "iopub.execute_input": "2022-09-16T20:20:41.063731Z",
     "iopub.status.busy": "2022-09-16T20:20:41.062993Z",
     "iopub.status.idle": "2022-09-16T20:20:41.099533Z",
     "shell.execute_reply": "2022-09-16T20:20:41.098279Z"
    },
    "papermill": {
     "duration": 0.052823,
     "end_time": "2022-09-16T20:20:41.102389",
     "exception": false,
     "start_time": "2022-09-16T20:20:41.049566",
     "status": "completed"
    },
    "tags": []
   },
   "outputs": [],
   "source": [
    "stopWords = set(stopwords.words('english'))\n",
    "stopWords_custom = [\"The\", \".\", \",\", \":\",\";\", \")\", \"(\",\"’\",\"&\",\"•\",\"%\",\"This\"]\n",
    "#words = word_tokenize(data)\n",
    "wordsFiltered = []\n",
    "\n",
    "for w in tokens:\n",
    "    if w not in stopWords:\n",
    "        if w in stopWords_custom:\n",
    "            pass\n",
    "        else:\n",
    "            wordsFiltered.append(w)"
   ]
  },
  {
   "cell_type": "code",
   "execution_count": 26,
   "id": "9c22b170",
   "metadata": {
    "execution": {
     "iopub.execute_input": "2022-09-16T20:20:41.126936Z",
     "iopub.status.busy": "2022-09-16T20:20:41.125948Z",
     "iopub.status.idle": "2022-09-16T20:20:41.136816Z",
     "shell.execute_reply": "2022-09-16T20:20:41.135485Z"
    },
    "papermill": {
     "duration": 0.025493,
     "end_time": "2022-09-16T20:20:41.139110",
     "exception": false,
     "start_time": "2022-09-16T20:20:41.113617",
     "status": "completed"
    },
    "tags": []
   },
   "outputs": [],
   "source": [
    "from collections import Counter\n",
    "most_occur = []\n",
    "  \n",
    "# Pass the split_it list to instance of Counter class.\n",
    "Counter = Counter(wordsFiltered)\n",
    "  \n",
    "# most_common() produces k frequently encountered\n",
    "# input values and their respective counts.\n",
    "most_occur = Counter.most_common(100) \n",
    "#print(most_occur)"
   ]
  },
  {
   "cell_type": "code",
   "execution_count": 27,
   "id": "5809932b",
   "metadata": {
    "execution": {
     "iopub.execute_input": "2022-09-16T20:20:41.163486Z",
     "iopub.status.busy": "2022-09-16T20:20:41.162614Z",
     "iopub.status.idle": "2022-09-16T20:20:41.169279Z",
     "shell.execute_reply": "2022-09-16T20:20:41.167776Z"
    },
    "papermill": {
     "duration": 0.022187,
     "end_time": "2022-09-16T20:20:41.172204",
     "exception": false,
     "start_time": "2022-09-16T20:20:41.150017",
     "status": "completed"
    },
    "tags": []
   },
   "outputs": [
    {
     "name": "stdout",
     "output_type": "stream",
     "text": [
      "[('care', 1023), ('program', 648), ('pharmacy', 646), ('residency', 511), ('clinical', 391), ('Pharmacy', 391), ('practice', 385), ('resident', 336), ('medicine', 334), ('experiences', 303), ('teaching', 283), ('PGY1', 269), ('residents', 248), ('include', 246), ('Residents', 245), ('rotations', 237), ('training', 231), ('hospital', 219), ('Care', 218), ('patient', 210)]\n"
     ]
    }
   ],
   "source": [
    "# 20 most common words in description\n",
    "print(most_occur[:20])"
   ]
  },
  {
   "cell_type": "markdown",
   "id": "287a1edd",
   "metadata": {
    "papermill": {
     "duration": 0.010567,
     "end_time": "2022-09-16T20:20:41.194168",
     "exception": false,
     "start_time": "2022-09-16T20:20:41.183601",
     "status": "completed"
    },
    "tags": []
   },
   "source": [
    "# Get contact emails"
   ]
  },
  {
   "cell_type": "code",
   "execution_count": 28,
   "id": "721de11a",
   "metadata": {
    "execution": {
     "iopub.execute_input": "2022-09-16T20:20:41.218272Z",
     "iopub.status.busy": "2022-09-16T20:20:41.217337Z",
     "iopub.status.idle": "2022-09-16T20:20:41.237401Z",
     "shell.execute_reply": "2022-09-16T20:20:41.236344Z"
    },
    "papermill": {
     "duration": 0.034825,
     "end_time": "2022-09-16T20:20:41.239756",
     "exception": false,
     "start_time": "2022-09-16T20:20:41.204931",
     "status": "completed"
    },
    "tags": []
   },
   "outputs": [
    {
     "data": {
      "text/html": [
       "<div>\n",
       "<style scoped>\n",
       "    .dataframe tbody tr th:only-of-type {\n",
       "        vertical-align: middle;\n",
       "    }\n",
       "\n",
       "    .dataframe tbody tr th {\n",
       "        vertical-align: top;\n",
       "    }\n",
       "\n",
       "    .dataframe thead th {\n",
       "        text-align: right;\n",
       "    }\n",
       "</style>\n",
       "<table border=\"1\" class=\"dataframe\">\n",
       "  <thead>\n",
       "    <tr style=\"text-align: right;\">\n",
       "      <th></th>\n",
       "      <th>Preceptor</th>\n",
       "      <th>Institution</th>\n",
       "      <th>Contact</th>\n",
       "    </tr>\n",
       "  </thead>\n",
       "  <tbody>\n",
       "    <tr>\n",
       "      <th>0</th>\n",
       "      <td>Sarah Blackwell, PharmD, BCPS, BCCCP</td>\n",
       "      <td>Princeton Baptist Medical Center</td>\n",
       "      <td>Sarah Blackwell, PharmD, BCPS, BCCCPPrinceton ...</td>\n",
       "    </tr>\n",
       "    <tr>\n",
       "      <th>1</th>\n",
       "      <td>Deidra Schmidt, PharmD, AAHIVP</td>\n",
       "      <td>Children's of Alabama</td>\n",
       "      <td>Deidra Schmidt, PharmD, AAHIVPChildren's of Al...</td>\n",
       "    </tr>\n",
       "    <tr>\n",
       "      <th>2</th>\n",
       "      <td>J. Andrew Carr, Pharm.D., BCPS (AQ-ID)</td>\n",
       "      <td>Birmingham VA Health Care System</td>\n",
       "      <td>J. Andrew Carr, Pharm.D., BCPS (AQ-ID)Birmingh...</td>\n",
       "    </tr>\n",
       "    <tr>\n",
       "      <th>3</th>\n",
       "      <td>Nancy Bailey, PharmD, BCPS</td>\n",
       "      <td>Jackson Hospital</td>\n",
       "      <td>Nancy Bailey, PharmD, BCPSJackson Hospital1725...</td>\n",
       "    </tr>\n",
       "    <tr>\n",
       "      <th>4</th>\n",
       "      <td>Logan Sawyer, PharmD, BCPS</td>\n",
       "      <td>Ascension St. Vincent's</td>\n",
       "      <td>Logan Sawyer, PharmD, BCPSAscension St. Vincen...</td>\n",
       "    </tr>\n",
       "    <tr>\n",
       "      <th>...</th>\n",
       "      <td>...</td>\n",
       "      <td>...</td>\n",
       "      <td>...</td>\n",
       "    </tr>\n",
       "    <tr>\n",
       "      <th>515</th>\n",
       "      <td>Patrick Huffman</td>\n",
       "      <td>VAMC - Beckley, WV</td>\n",
       "      <td>Patrick HuffmanVAMC - Beckley, WV200 Veterans ...</td>\n",
       "    </tr>\n",
       "    <tr>\n",
       "      <th>516</th>\n",
       "      <td>Ashley F. Street, PharmD, MSHA</td>\n",
       "      <td>WVU Medicine – WVU Hospitals</td>\n",
       "      <td>Ashley F. Street, PharmD, MSHAWVU Medicine – W...</td>\n",
       "    </tr>\n",
       "    <tr>\n",
       "      <th>517</th>\n",
       "      <td>Meredith Todd, PharmD, BCPS, BCIDP</td>\n",
       "      <td>Charleston Area Medical Center</td>\n",
       "      <td>Meredith Todd, PharmD, BCPS, BCIDPCharleston A...</td>\n",
       "    </tr>\n",
       "    <tr>\n",
       "      <th>518</th>\n",
       "      <td>Angela Crotsenberg</td>\n",
       "      <td>Cheyenne Regional Medical Center</td>\n",
       "      <td>Angela CrotsenbergCheyenne Regional Medical Ce...</td>\n",
       "    </tr>\n",
       "    <tr>\n",
       "      <th>519</th>\n",
       "      <td>NaN</td>\n",
       "      <td>NaN</td>\n",
       "      <td>NaN</td>\n",
       "    </tr>\n",
       "  </tbody>\n",
       "</table>\n",
       "<p>520 rows × 3 columns</p>\n",
       "</div>"
      ],
      "text/plain": [
       "                                  Preceptor                       Institution  \\\n",
       "0      Sarah Blackwell, PharmD, BCPS, BCCCP  Princeton Baptist Medical Center   \n",
       "1            Deidra Schmidt, PharmD, AAHIVP             Children's of Alabama   \n",
       "2    J. Andrew Carr, Pharm.D., BCPS (AQ-ID)  Birmingham VA Health Care System   \n",
       "3                Nancy Bailey, PharmD, BCPS                  Jackson Hospital   \n",
       "4                Logan Sawyer, PharmD, BCPS           Ascension St. Vincent's   \n",
       "..                                      ...                               ...   \n",
       "515                         Patrick Huffman                VAMC - Beckley, WV   \n",
       "516          Ashley F. Street, PharmD, MSHA      WVU Medicine – WVU Hospitals   \n",
       "517      Meredith Todd, PharmD, BCPS, BCIDP    Charleston Area Medical Center   \n",
       "518                      Angela Crotsenberg  Cheyenne Regional Medical Center   \n",
       "519                                     NaN                               NaN   \n",
       "\n",
       "                                               Contact  \n",
       "0    Sarah Blackwell, PharmD, BCPS, BCCCPPrinceton ...  \n",
       "1    Deidra Schmidt, PharmD, AAHIVPChildren's of Al...  \n",
       "2    J. Andrew Carr, Pharm.D., BCPS (AQ-ID)Birmingh...  \n",
       "3    Nancy Bailey, PharmD, BCPSJackson Hospital1725...  \n",
       "4    Logan Sawyer, PharmD, BCPSAscension St. Vincen...  \n",
       "..                                                 ...  \n",
       "515  Patrick HuffmanVAMC - Beckley, WV200 Veterans ...  \n",
       "516  Ashley F. Street, PharmD, MSHAWVU Medicine – W...  \n",
       "517  Meredith Todd, PharmD, BCPS, BCIDPCharleston A...  \n",
       "518  Angela CrotsenbergCheyenne Regional Medical Ce...  \n",
       "519                                                NaN  \n",
       "\n",
       "[520 rows x 3 columns]"
      ]
     },
     "execution_count": 28,
     "metadata": {},
     "output_type": "execute_result"
    }
   ],
   "source": [
    "# Create Series by assigning names\n",
    "Preceptor = pd.Series(df[\"Preceptor\"])\n",
    "Institution = pd.Series(df[\"Institution\"])\n",
    "Contact = pd.Series(df[\"Contact\"])\n",
    "\n",
    "# using pandas series merge()\n",
    "df3 = pd.merge(Preceptor, Institution, right_index = True,\n",
    "               left_index = True)\n",
    "\n",
    "# using pandas series merge()\n",
    "df3 = pd.merge(df3, Contact, right_index = True,\n",
    "               left_index = True)     \n",
    "               \n",
    "df3"
   ]
  },
  {
   "cell_type": "code",
   "execution_count": 29,
   "id": "238dd9cc",
   "metadata": {
    "execution": {
     "iopub.execute_input": "2022-09-16T20:20:41.263830Z",
     "iopub.status.busy": "2022-09-16T20:20:41.263458Z",
     "iopub.status.idle": "2022-09-16T20:20:41.271092Z",
     "shell.execute_reply": "2022-09-16T20:20:41.269902Z"
    },
    "papermill": {
     "duration": 0.022548,
     "end_time": "2022-09-16T20:20:41.273444",
     "exception": false,
     "start_time": "2022-09-16T20:20:41.250896",
     "status": "completed"
    },
    "tags": []
   },
   "outputs": [],
   "source": [
    "df3.dropna(inplace=True)\n",
    "#df3.isna().sum()"
   ]
  },
  {
   "cell_type": "code",
   "execution_count": 30,
   "id": "efba09a5",
   "metadata": {
    "execution": {
     "iopub.execute_input": "2022-09-16T20:20:41.298662Z",
     "iopub.status.busy": "2022-09-16T20:20:41.298279Z",
     "iopub.status.idle": "2022-09-16T20:20:41.304934Z",
     "shell.execute_reply": "2022-09-16T20:20:41.303860Z"
    },
    "papermill": {
     "duration": 0.021877,
     "end_time": "2022-09-16T20:20:41.307215",
     "exception": false,
     "start_time": "2022-09-16T20:20:41.285338",
     "status": "completed"
    },
    "tags": []
   },
   "outputs": [
    {
     "data": {
      "text/plain": [
       "'Sarah Blackwell, PharmD, BCPS, BCCCPPrinceton Baptist Medical CenterDepartment of Pharmacy Services701 Princeton Ave SWBirmingham, AL 35211(205) 783-3223 (Phone)sarah.blackwell@bhsala.com'"
      ]
     },
     "execution_count": 30,
     "metadata": {},
     "output_type": "execute_result"
    }
   ],
   "source": [
    "df[\"Contact\"][0]"
   ]
  },
  {
   "cell_type": "code",
   "execution_count": 31,
   "id": "bfb33cf5",
   "metadata": {
    "execution": {
     "iopub.execute_input": "2022-09-16T20:20:41.332617Z",
     "iopub.status.busy": "2022-09-16T20:20:41.332243Z",
     "iopub.status.idle": "2022-09-16T20:20:41.338730Z",
     "shell.execute_reply": "2022-09-16T20:20:41.337559Z"
    },
    "papermill": {
     "duration": 0.022089,
     "end_time": "2022-09-16T20:20:41.341030",
     "exception": false,
     "start_time": "2022-09-16T20:20:41.318941",
     "status": "completed"
    },
    "tags": []
   },
   "outputs": [],
   "source": [
    "# Filter out email from contact string\n",
    "Email = []\n",
    "for x in df3[\"Contact\"]: \n",
    "    #x.split(\"(Phone)\")\n",
    "    #print(x)\n",
    "    # Remove all characters before the character '-' from string\n",
    "    listOfWords = x.split(\"(Phone)\", 1)\n",
    "    if len(listOfWords) > 0: \n",
    "        strValue = listOfWords[1]\n",
    "    Email.append(strValue)"
   ]
  },
  {
   "cell_type": "code",
   "execution_count": 32,
   "id": "e58f0aba",
   "metadata": {
    "execution": {
     "iopub.execute_input": "2022-09-16T20:20:41.365666Z",
     "iopub.status.busy": "2022-09-16T20:20:41.365297Z",
     "iopub.status.idle": "2022-09-16T20:20:41.371857Z",
     "shell.execute_reply": "2022-09-16T20:20:41.370673Z"
    },
    "papermill": {
     "duration": 0.02214,
     "end_time": "2022-09-16T20:20:41.374648",
     "exception": false,
     "start_time": "2022-09-16T20:20:41.352508",
     "status": "completed"
    },
    "tags": []
   },
   "outputs": [],
   "source": [
    "df3.drop(columns=\"Contact\", inplace=True)\n",
    "df3[\"Email\"] = Email"
   ]
  },
  {
   "cell_type": "code",
   "execution_count": 33,
   "id": "5b13c87f",
   "metadata": {
    "execution": {
     "iopub.execute_input": "2022-09-16T20:20:41.400139Z",
     "iopub.status.busy": "2022-09-16T20:20:41.399701Z",
     "iopub.status.idle": "2022-09-16T20:20:41.404025Z",
     "shell.execute_reply": "2022-09-16T20:20:41.403163Z"
    },
    "papermill": {
     "duration": 0.020064,
     "end_time": "2022-09-16T20:20:41.406324",
     "exception": false,
     "start_time": "2022-09-16T20:20:41.386260",
     "status": "completed"
    },
    "tags": []
   },
   "outputs": [],
   "source": [
    "# Export emails to csv\n",
    "#df3.to_csv(\"midYearFellowshipEmails.csv\",index=False)"
   ]
  },
  {
   "cell_type": "markdown",
   "id": "2ad05873",
   "metadata": {
    "papermill": {
     "duration": 0.011192,
     "end_time": "2022-09-16T20:20:41.429183",
     "exception": false,
     "start_time": "2022-09-16T20:20:41.417991",
     "status": "completed"
    },
    "tags": []
   },
   "source": [
    "# Create CSV file to use in Tableau"
   ]
  },
  {
   "cell_type": "code",
   "execution_count": 34,
   "id": "5b6ab3f9",
   "metadata": {
    "execution": {
     "iopub.execute_input": "2022-09-16T20:20:41.453641Z",
     "iopub.status.busy": "2022-09-16T20:20:41.453272Z",
     "iopub.status.idle": "2022-09-16T20:20:41.458860Z",
     "shell.execute_reply": "2022-09-16T20:20:41.457758Z"
    },
    "papermill": {
     "duration": 0.020636,
     "end_time": "2022-09-16T20:20:41.461005",
     "exception": false,
     "start_time": "2022-09-16T20:20:41.440369",
     "status": "completed"
    },
    "tags": []
   },
   "outputs": [],
   "source": [
    "df4 = df2.drop(columns=\"Description of opportunity\")"
   ]
  },
  {
   "cell_type": "code",
   "execution_count": 35,
   "id": "eae6242f",
   "metadata": {
    "execution": {
     "iopub.execute_input": "2022-09-16T20:20:41.486271Z",
     "iopub.status.busy": "2022-09-16T20:20:41.485548Z",
     "iopub.status.idle": "2022-09-16T20:20:41.496540Z",
     "shell.execute_reply": "2022-09-16T20:20:41.495149Z"
    },
    "papermill": {
     "duration": 0.026228,
     "end_time": "2022-09-16T20:20:41.499014",
     "exception": false,
     "start_time": "2022-09-16T20:20:41.472786",
     "status": "completed"
    },
    "tags": []
   },
   "outputs": [
    {
     "data": {
      "text/plain": [
       "Institution    0\n",
       "Region         0\n",
       "Stipend        0\n",
       "dtype: int64"
      ]
     },
     "execution_count": 35,
     "metadata": {},
     "output_type": "execute_result"
    }
   ],
   "source": [
    "df4.isna().sum()"
   ]
  },
  {
   "cell_type": "code",
   "execution_count": 36,
   "id": "7b8f72bd",
   "metadata": {
    "execution": {
     "iopub.execute_input": "2022-09-16T20:20:41.524371Z",
     "iopub.status.busy": "2022-09-16T20:20:41.523961Z",
     "iopub.status.idle": "2022-09-16T20:20:41.530823Z",
     "shell.execute_reply": "2022-09-16T20:20:41.529704Z"
    },
    "papermill": {
     "duration": 0.022126,
     "end_time": "2022-09-16T20:20:41.533171",
     "exception": false,
     "start_time": "2022-09-16T20:20:41.511045",
     "status": "completed"
    },
    "tags": []
   },
   "outputs": [
    {
     "data": {
      "text/plain": [
       "Index(['Institution', 'Region', 'Stipend'], dtype='object')"
      ]
     },
     "execution_count": 36,
     "metadata": {},
     "output_type": "execute_result"
    }
   ],
   "source": [
    "df4.columns"
   ]
  },
  {
   "cell_type": "code",
   "execution_count": 37,
   "id": "3302df76",
   "metadata": {
    "execution": {
     "iopub.execute_input": "2022-09-16T20:20:41.557933Z",
     "iopub.status.busy": "2022-09-16T20:20:41.557543Z",
     "iopub.status.idle": "2022-09-16T20:20:41.562286Z",
     "shell.execute_reply": "2022-09-16T20:20:41.561047Z"
    },
    "papermill": {
     "duration": 0.020305,
     "end_time": "2022-09-16T20:20:41.564944",
     "exception": false,
     "start_time": "2022-09-16T20:20:41.544639",
     "status": "completed"
    },
    "tags": []
   },
   "outputs": [],
   "source": [
    "# Export to csv file\n",
    "#df4.to_csv(\"midYearFellowshipLight.csv\", index=False)"
   ]
  }
 ],
 "metadata": {
  "kernelspec": {
   "display_name": "Python 3",
   "language": "python",
   "name": "python3"
  },
  "language_info": {
   "codemirror_mode": {
    "name": "ipython",
    "version": 3
   },
   "file_extension": ".py",
   "mimetype": "text/x-python",
   "name": "python",
   "nbconvert_exporter": "python",
   "pygments_lexer": "ipython3",
   "version": "3.7.12"
  },
  "papermill": {
   "default_parameters": {},
   "duration": 14.232889,
   "end_time": "2022-09-16T20:20:42.398944",
   "environment_variables": {},
   "exception": null,
   "input_path": "__notebook__.ipynb",
   "output_path": "__notebook__.ipynb",
   "parameters": {},
   "start_time": "2022-09-16T20:20:28.166055",
   "version": "2.3.4"
  }
 },
 "nbformat": 4,
 "nbformat_minor": 5
}
