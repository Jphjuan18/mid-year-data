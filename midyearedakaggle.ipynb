{
 "cells": [
  {
   "cell_type": "code",
   "execution_count": 1,
   "id": "8f432d53",
   "metadata": {
    "execution": {
     "iopub.execute_input": "2022-09-15T22:29:08.265198Z",
     "iopub.status.busy": "2022-09-15T22:29:08.264688Z",
     "iopub.status.idle": "2022-09-15T22:29:09.996151Z",
     "shell.execute_reply": "2022-09-15T22:29:09.994818Z"
    },
    "papermill": {
     "duration": 1.748042,
     "end_time": "2022-09-15T22:29:09.999584",
     "exception": false,
     "start_time": "2022-09-15T22:29:08.251542",
     "status": "completed"
    },
    "tags": []
   },
   "outputs": [],
   "source": [
    "# Import dependencies\n",
    "import pandas as pd\n",
    "import numpy as np\n",
    "import re\n",
    "import nltk"
   ]
  },
  {
   "cell_type": "code",
   "execution_count": 2,
   "id": "058d0b56",
   "metadata": {
    "execution": {
     "iopub.execute_input": "2022-09-15T22:29:10.021885Z",
     "iopub.status.busy": "2022-09-15T22:29:10.021070Z",
     "iopub.status.idle": "2022-09-15T22:29:10.026662Z",
     "shell.execute_reply": "2022-09-15T22:29:10.025455Z"
    },
    "papermill": {
     "duration": 0.018833,
     "end_time": "2022-09-15T22:29:10.029156",
     "exception": false,
     "start_time": "2022-09-15T22:29:10.010323",
     "status": "completed"
    },
    "tags": []
   },
   "outputs": [],
   "source": [
    "#import os\n",
    "#for dirname, _, filenames in os.walk('/kaggle/input'):\n",
    "#    for filename in filenames:\n",
    "#        print(os.path.join(dirname, filename))"
   ]
  },
  {
   "cell_type": "code",
   "execution_count": 3,
   "id": "fbadd696",
   "metadata": {
    "execution": {
     "iopub.execute_input": "2022-09-15T22:29:10.052534Z",
     "iopub.status.busy": "2022-09-15T22:29:10.051820Z",
     "iopub.status.idle": "2022-09-15T22:29:10.083241Z",
     "shell.execute_reply": "2022-09-15T22:29:10.082007Z"
    },
    "papermill": {
     "duration": 0.047383,
     "end_time": "2022-09-15T22:29:10.086215",
     "exception": false,
     "start_time": "2022-09-15T22:29:10.038832",
     "status": "completed"
    },
    "tags": []
   },
   "outputs": [],
   "source": [
    "df = pd.read_csv(\"/kaggle/input/midyeardata/midYearFellowship.csv\", index_col=0)"
   ]
  },
  {
   "cell_type": "code",
   "execution_count": 4,
   "id": "62d73d36",
   "metadata": {
    "execution": {
     "iopub.execute_input": "2022-09-15T22:29:10.106870Z",
     "iopub.status.busy": "2022-09-15T22:29:10.106430Z",
     "iopub.status.idle": "2022-09-15T22:29:10.127081Z",
     "shell.execute_reply": "2022-09-15T22:29:10.125803Z"
    },
    "papermill": {
     "duration": 0.034876,
     "end_time": "2022-09-15T22:29:10.130814",
     "exception": false,
     "start_time": "2022-09-15T22:29:10.095938",
     "status": "completed"
    },
    "tags": []
   },
   "outputs": [
    {
     "name": "stdout",
     "output_type": "stream",
     "text": [
      "<class 'pandas.core.frame.DataFrame'>\n",
      "Int64Index: 115 entries, 0 to 114\n",
      "Data columns (total 14 columns):\n",
      " #   Column                      Non-Null Count  Dtype  \n",
      "---  ------                      --------------  -----  \n",
      " 0   Type of Program             114 non-null    object \n",
      " 1   Primary Setting             112 non-null    object \n",
      " 2   Description of opportunity  114 non-null    object \n",
      " 3   Preceptor                   114 non-null    object \n",
      " 4   Institution                 114 non-null    object \n",
      " 5   Length (Yrs)                114 non-null    float64\n",
      " 6   Start Date                  114 non-null    object \n",
      " 7   Stipend                     98 non-null     object \n",
      " 8   Number of These Positions   114 non-null    float64\n",
      " 9   Region                      104 non-null    object \n",
      " 10  Program Website             91 non-null     object \n",
      " 11  Contact                     114 non-null    object \n",
      " 12  Web ID                      114 non-null    object \n",
      " 13  Last Modified               114 non-null    object \n",
      "dtypes: float64(2), object(12)\n",
      "memory usage: 13.5+ KB\n"
     ]
    }
   ],
   "source": [
    "df.info()"
   ]
  },
  {
   "cell_type": "code",
   "execution_count": 5,
   "id": "a22ea812",
   "metadata": {
    "execution": {
     "iopub.execute_input": "2022-09-15T22:29:10.152609Z",
     "iopub.status.busy": "2022-09-15T22:29:10.152130Z",
     "iopub.status.idle": "2022-09-15T22:29:10.163510Z",
     "shell.execute_reply": "2022-09-15T22:29:10.162615Z"
    },
    "papermill": {
     "duration": 0.024994,
     "end_time": "2022-09-15T22:29:10.165851",
     "exception": false,
     "start_time": "2022-09-15T22:29:10.140857",
     "status": "completed"
    },
    "tags": []
   },
   "outputs": [
    {
     "data": {
      "text/plain": [
       "Type of Program                1\n",
       "Primary Setting                3\n",
       "Description of opportunity     1\n",
       "Preceptor                      1\n",
       "Institution                    1\n",
       "Length (Yrs)                   1\n",
       "Start Date                     1\n",
       "Stipend                       17\n",
       "Number of These Positions      1\n",
       "Region                        11\n",
       "Program Website               24\n",
       "Contact                        1\n",
       "Web ID                         1\n",
       "Last Modified                  1\n",
       "dtype: int64"
      ]
     },
     "execution_count": 5,
     "metadata": {},
     "output_type": "execute_result"
    }
   ],
   "source": [
    "# Find missing values in data\n",
    "df.isna().sum()"
   ]
  },
  {
   "cell_type": "markdown",
   "id": "8f2cc4d3",
   "metadata": {
    "papermill": {
     "duration": 0.009311,
     "end_time": "2022-09-15T22:29:10.184840",
     "exception": false,
     "start_time": "2022-09-15T22:29:10.175529",
     "status": "completed"
    },
    "tags": []
   },
   "source": [
    "# Fill empty values with average stipend"
   ]
  },
  {
   "cell_type": "code",
   "execution_count": 6,
   "id": "8286d86d",
   "metadata": {
    "execution": {
     "iopub.execute_input": "2022-09-15T22:29:10.206533Z",
     "iopub.status.busy": "2022-09-15T22:29:10.205434Z",
     "iopub.status.idle": "2022-09-15T22:29:10.211707Z",
     "shell.execute_reply": "2022-09-15T22:29:10.210635Z"
    },
    "papermill": {
     "duration": 0.019671,
     "end_time": "2022-09-15T22:29:10.214173",
     "exception": false,
     "start_time": "2022-09-15T22:29:10.194502",
     "status": "completed"
    },
    "tags": []
   },
   "outputs": [],
   "source": [
    "# Clean empty stipend values\n",
    "df['Stipend'] = df['Stipend'].fillna(\"$0.00\")"
   ]
  },
  {
   "cell_type": "code",
   "execution_count": 7,
   "id": "27469177",
   "metadata": {
    "execution": {
     "iopub.execute_input": "2022-09-15T22:29:10.236955Z",
     "iopub.status.busy": "2022-09-15T22:29:10.236135Z",
     "iopub.status.idle": "2022-09-15T22:29:10.269261Z",
     "shell.execute_reply": "2022-09-15T22:29:10.267849Z"
    },
    "papermill": {
     "duration": 0.047082,
     "end_time": "2022-09-15T22:29:10.272148",
     "exception": false,
     "start_time": "2022-09-15T22:29:10.225066",
     "status": "completed"
    },
    "tags": []
   },
   "outputs": [
    {
     "data": {
      "text/html": [
       "<div>\n",
       "<style scoped>\n",
       "    .dataframe tbody tr th:only-of-type {\n",
       "        vertical-align: middle;\n",
       "    }\n",
       "\n",
       "    .dataframe tbody tr th {\n",
       "        vertical-align: top;\n",
       "    }\n",
       "\n",
       "    .dataframe thead th {\n",
       "        text-align: right;\n",
       "    }\n",
       "</style>\n",
       "<table border=\"1\" class=\"dataframe\">\n",
       "  <thead>\n",
       "    <tr style=\"text-align: right;\">\n",
       "      <th></th>\n",
       "      <th>Institution</th>\n",
       "      <th>Region</th>\n",
       "      <th>Stipend</th>\n",
       "      <th>Description of opportunity</th>\n",
       "    </tr>\n",
       "  </thead>\n",
       "  <tbody>\n",
       "    <tr>\n",
       "      <th>0</th>\n",
       "      <td>University of Southern California</td>\n",
       "      <td>Pacific</td>\n",
       "      <td>$63,750.00</td>\n",
       "      <td>The one-year Academic Pharmacy Fellowship is d...</td>\n",
       "    </tr>\n",
       "    <tr>\n",
       "      <th>1</th>\n",
       "      <td>Roosevelt University College of Science, Healt...</td>\n",
       "      <td>Midwest</td>\n",
       "      <td>$50,000.00</td>\n",
       "      <td>Roosevelt University College of Science, Healt...</td>\n",
       "    </tr>\n",
       "    <tr>\n",
       "      <th>2</th>\n",
       "      <td>Sullivan University College of Pharmacy and He...</td>\n",
       "      <td>Southeast</td>\n",
       "      <td>$48,000.00</td>\n",
       "      <td>This 12-month academic fellowship at Sullivan ...</td>\n",
       "    </tr>\n",
       "    <tr>\n",
       "      <th>3</th>\n",
       "      <td>Xavier University of Louisiana</td>\n",
       "      <td>Southeast</td>\n",
       "      <td>$0.00</td>\n",
       "      <td>The Fellowship in Clinical Pharmacy Education ...</td>\n",
       "    </tr>\n",
       "    <tr>\n",
       "      <th>4</th>\n",
       "      <td>University of North Carolina</td>\n",
       "      <td>Southeast</td>\n",
       "      <td>$0.00</td>\n",
       "      <td>The Center for Innovative Pharmacy Education a...</td>\n",
       "    </tr>\n",
       "    <tr>\n",
       "      <th>...</th>\n",
       "      <td>...</td>\n",
       "      <td>...</td>\n",
       "      <td>...</td>\n",
       "      <td>...</td>\n",
       "    </tr>\n",
       "    <tr>\n",
       "      <th>110</th>\n",
       "      <td>University of Maryland</td>\n",
       "      <td>Southeast</td>\n",
       "      <td>$0.00</td>\n",
       "      <td>The University of Maryland Medical Center and ...</td>\n",
       "    </tr>\n",
       "    <tr>\n",
       "      <th>111</th>\n",
       "      <td>University of Illinois at Chicago</td>\n",
       "      <td>Midwest</td>\n",
       "      <td>$52,000.00</td>\n",
       "      <td>The University of Illinois at Chicago (UIC) Co...</td>\n",
       "    </tr>\n",
       "    <tr>\n",
       "      <th>112</th>\n",
       "      <td>University of Michigan</td>\n",
       "      <td>Midwest</td>\n",
       "      <td>$56,000.00</td>\n",
       "      <td>The faculty in the department are seeking appl...</td>\n",
       "    </tr>\n",
       "    <tr>\n",
       "      <th>113</th>\n",
       "      <td>Geisinger</td>\n",
       "      <td>Northeast</td>\n",
       "      <td>$0.00</td>\n",
       "      <td>Responsible for conducting research under the ...</td>\n",
       "    </tr>\n",
       "    <tr>\n",
       "      <th>114</th>\n",
       "      <td>NaN</td>\n",
       "      <td>NaN</td>\n",
       "      <td>$0.00</td>\n",
       "      <td>NaN</td>\n",
       "    </tr>\n",
       "  </tbody>\n",
       "</table>\n",
       "<p>115 rows × 4 columns</p>\n",
       "</div>"
      ],
      "text/plain": [
       "                                           Institution     Region     Stipend  \\\n",
       "0                    University of Southern California    Pacific  $63,750.00   \n",
       "1    Roosevelt University College of Science, Healt...    Midwest  $50,000.00   \n",
       "2    Sullivan University College of Pharmacy and He...  Southeast  $48,000.00   \n",
       "3                       Xavier University of Louisiana  Southeast       $0.00   \n",
       "4                         University of North Carolina  Southeast       $0.00   \n",
       "..                                                 ...        ...         ...   \n",
       "110                             University of Maryland  Southeast       $0.00   \n",
       "111                  University of Illinois at Chicago    Midwest  $52,000.00   \n",
       "112                             University of Michigan    Midwest  $56,000.00   \n",
       "113                                          Geisinger  Northeast       $0.00   \n",
       "114                                                NaN        NaN       $0.00   \n",
       "\n",
       "                            Description of opportunity  \n",
       "0    The one-year Academic Pharmacy Fellowship is d...  \n",
       "1    Roosevelt University College of Science, Healt...  \n",
       "2    This 12-month academic fellowship at Sullivan ...  \n",
       "3    The Fellowship in Clinical Pharmacy Education ...  \n",
       "4    The Center for Innovative Pharmacy Education a...  \n",
       "..                                                 ...  \n",
       "110  The University of Maryland Medical Center and ...  \n",
       "111  The University of Illinois at Chicago (UIC) Co...  \n",
       "112  The faculty in the department are seeking appl...  \n",
       "113  Responsible for conducting research under the ...  \n",
       "114                                                NaN  \n",
       "\n",
       "[115 rows x 4 columns]"
      ]
     },
     "execution_count": 7,
     "metadata": {},
     "output_type": "execute_result"
    }
   ],
   "source": [
    "# Create Series by assigning names\n",
    "Region = pd.Series(df[\"Region\"])\n",
    "Institution = pd.Series(df[\"Institution\"])\n",
    "Stipend = pd.Series(df[\"Stipend\"])\n",
    "Description_of_opportunity = pd.Series(df[\"Description of opportunity\"])\n",
    "\n",
    "# using pandas series merge()\n",
    "df2 = pd.merge(Institution, Region, right_index = True,\n",
    "               left_index = True)\n",
    "\n",
    "# using pandas series merge()\n",
    "df2 = pd.merge(df2, Stipend, right_index = True,\n",
    "               left_index = True)    \n",
    "                          \n",
    "# using pandas series merge()\n",
    "df2 = pd.merge(df2, Description_of_opportunity, right_index = True,\n",
    "               left_index = True)    \n",
    "               \n",
    "df2"
   ]
  },
  {
   "cell_type": "code",
   "execution_count": 8,
   "id": "8c60fa8d",
   "metadata": {
    "execution": {
     "iopub.execute_input": "2022-09-15T22:29:10.294162Z",
     "iopub.status.busy": "2022-09-15T22:29:10.293773Z",
     "iopub.status.idle": "2022-09-15T22:29:10.298407Z",
     "shell.execute_reply": "2022-09-15T22:29:10.297005Z"
    },
    "papermill": {
     "duration": 0.018467,
     "end_time": "2022-09-15T22:29:10.300660",
     "exception": false,
     "start_time": "2022-09-15T22:29:10.282193",
     "status": "completed"
    },
    "tags": []
   },
   "outputs": [],
   "source": [
    "stipend = []"
   ]
  },
  {
   "cell_type": "code",
   "execution_count": 9,
   "id": "9b587ccb",
   "metadata": {
    "execution": {
     "iopub.execute_input": "2022-09-15T22:29:10.322779Z",
     "iopub.status.busy": "2022-09-15T22:29:10.321835Z",
     "iopub.status.idle": "2022-09-15T22:29:10.329756Z",
     "shell.execute_reply": "2022-09-15T22:29:10.328435Z"
    },
    "papermill": {
     "duration": 0.022,
     "end_time": "2022-09-15T22:29:10.332714",
     "exception": false,
     "start_time": "2022-09-15T22:29:10.310714",
     "status": "completed"
    },
    "tags": []
   },
   "outputs": [
    {
     "name": "stdout",
     "output_type": "stream",
     "text": [
      "[63750, 50000, 48000, 0, 0, 54000, 50000, 50000, 55000, 0, 45000, 0, 49500, 0, 0, 130000, 0, 50000, 60000, 58000, 50000, 0, 50000, 55224, 0, 0, 55000, 54840, 0, 52000, 54800, 60000, 58000, 0, 53000, 50000, 50000, 42519, 50000, 55000, 53000, 53000, 0, 50000, 0, 50000, 0, 55000, 51000, 52000, 52000, 51000, 50000, 0, 50000, 50000, 52500, 50353, 52000, 55000, 51300, 52704, 72000, 52850, 0, 47500, 45221, 50000, 47460, 54144, 54000, 60000, 50000, 0, 0, 43000, 0, 60000, 60000, 60000, 47000, 0, 0, 40716, 52000, 50000, 0, 55000, 54144, 50000, 55000, 50000, 63750, 50000, 50000, 51000, 54000, 54000, 42500, 40000, 56000, 0, 0, 50000, 42000, 54000, 45000, 55000, 48500, 48000, 0, 52000, 56000, 0, 0]\n"
     ]
    }
   ],
   "source": [
    "for x in df2[\"Stipend\"]: \n",
    "    x = x[1:]\n",
    "    y = re.sub('[,]', \"\", x[0:-3])\n",
    "    stipend.append(int(y))\n",
    "   \n",
    "print(stipend)"
   ]
  },
  {
   "cell_type": "code",
   "execution_count": 10,
   "id": "8911a18b",
   "metadata": {
    "execution": {
     "iopub.execute_input": "2022-09-15T22:29:10.354474Z",
     "iopub.status.busy": "2022-09-15T22:29:10.353725Z",
     "iopub.status.idle": "2022-09-15T22:29:10.360530Z",
     "shell.execute_reply": "2022-09-15T22:29:10.359316Z"
    },
    "papermill": {
     "duration": 0.020829,
     "end_time": "2022-09-15T22:29:10.363560",
     "exception": false,
     "start_time": "2022-09-15T22:29:10.342731",
     "status": "completed"
    },
    "tags": []
   },
   "outputs": [
    {
     "name": "stdout",
     "output_type": "stream",
     "text": [
      "Total Stipend Value: 4606275\n",
      "Average Stipend: 52945.68965517241\n"
     ]
    }
   ],
   "source": [
    "# Get average stipend\n",
    "total = 0\n",
    "average = 0\n",
    "for x in stipend:    \n",
    "    \n",
    "    if x == 0:\n",
    "       pass\n",
    "    else:\n",
    "        total+=x\n",
    "        average +=1\n",
    "    \n",
    "print(f\"Total Stipend Value: {total}\")\n",
    "print(f\"Average Stipend: {total/average}\")"
   ]
  },
  {
   "cell_type": "code",
   "execution_count": 11,
   "id": "8d80e452",
   "metadata": {
    "execution": {
     "iopub.execute_input": "2022-09-15T22:29:10.386398Z",
     "iopub.status.busy": "2022-09-15T22:29:10.385742Z",
     "iopub.status.idle": "2022-09-15T22:29:10.392523Z",
     "shell.execute_reply": "2022-09-15T22:29:10.391690Z"
    },
    "papermill": {
     "duration": 0.020384,
     "end_time": "2022-09-15T22:29:10.394736",
     "exception": false,
     "start_time": "2022-09-15T22:29:10.374352",
     "status": "completed"
    },
    "tags": []
   },
   "outputs": [],
   "source": [
    "df2.drop(columns=\"Stipend\", inplace=True)\n",
    "df2[\"Stipend\"] = stipend"
   ]
  },
  {
   "cell_type": "code",
   "execution_count": 12,
   "id": "bb94d94f",
   "metadata": {
    "execution": {
     "iopub.execute_input": "2022-09-15T22:29:10.416530Z",
     "iopub.status.busy": "2022-09-15T22:29:10.415872Z",
     "iopub.status.idle": "2022-09-15T22:29:10.438418Z",
     "shell.execute_reply": "2022-09-15T22:29:10.437204Z"
    },
    "papermill": {
     "duration": 0.036745,
     "end_time": "2022-09-15T22:29:10.441280",
     "exception": false,
     "start_time": "2022-09-15T22:29:10.404535",
     "status": "completed"
    },
    "tags": []
   },
   "outputs": [
    {
     "name": "stderr",
     "output_type": "stream",
     "text": [
      "/opt/conda/lib/python3.7/site-packages/pandas/core/indexing.py:1732: SettingWithCopyWarning: \n",
      "A value is trying to be set on a copy of a slice from a DataFrame\n",
      "\n",
      "See the caveats in the documentation: https://pandas.pydata.org/pandas-docs/stable/user_guide/indexing.html#returning-a-view-versus-a-copy\n",
      "  self._setitem_single_block(indexer, value, name)\n"
     ]
    }
   ],
   "source": [
    "#Replace missing values with average stipend\n",
    "for x in range(0,len(df2[\"Stipend\"])):\n",
    "    if df2[\"Stipend\"].loc[x] == 0:\n",
    "        df2[\"Stipend\"].loc[x] = 52945\n",
    "    else:\n",
    "        pass"
   ]
  },
  {
   "cell_type": "code",
   "execution_count": 13,
   "id": "020ef9e4",
   "metadata": {
    "execution": {
     "iopub.execute_input": "2022-09-15T22:29:10.464928Z",
     "iopub.status.busy": "2022-09-15T22:29:10.464520Z",
     "iopub.status.idle": "2022-09-15T22:29:10.473933Z",
     "shell.execute_reply": "2022-09-15T22:29:10.472829Z"
    },
    "papermill": {
     "duration": 0.022939,
     "end_time": "2022-09-15T22:29:10.476167",
     "exception": false,
     "start_time": "2022-09-15T22:29:10.453228",
     "status": "completed"
    },
    "tags": []
   },
   "outputs": [
    {
     "data": {
      "text/plain": [
       "Institution                    1\n",
       "Region                        11\n",
       "Description of opportunity     1\n",
       "Stipend                        0\n",
       "dtype: int64"
      ]
     },
     "execution_count": 13,
     "metadata": {},
     "output_type": "execute_result"
    }
   ],
   "source": [
    "df2.isna().sum()"
   ]
  },
  {
   "cell_type": "markdown",
   "id": "353397c1",
   "metadata": {
    "papermill": {
     "duration": 0.009876,
     "end_time": "2022-09-15T22:29:10.496308",
     "exception": false,
     "start_time": "2022-09-15T22:29:10.486432",
     "status": "completed"
    },
    "tags": []
   },
   "source": [
    "# # Find amount of opportunities available per region  "
   ]
  },
  {
   "cell_type": "code",
   "execution_count": 14,
   "id": "c65c7371",
   "metadata": {
    "execution": {
     "iopub.execute_input": "2022-09-15T22:29:10.518695Z",
     "iopub.status.busy": "2022-09-15T22:29:10.517969Z",
     "iopub.status.idle": "2022-09-15T22:29:10.523241Z",
     "shell.execute_reply": "2022-09-15T22:29:10.522075Z"
    },
    "papermill": {
     "duration": 0.019295,
     "end_time": "2022-09-15T22:29:10.525783",
     "exception": false,
     "start_time": "2022-09-15T22:29:10.506488",
     "status": "completed"
    },
    "tags": []
   },
   "outputs": [],
   "source": [
    "Region_list = ['Pacific', 'Midwest', 'Southeast', 'Rocky Mountain', 'Northeast']"
   ]
  },
  {
   "cell_type": "code",
   "execution_count": 15,
   "id": "d2a27f4f",
   "metadata": {
    "execution": {
     "iopub.execute_input": "2022-09-15T22:29:10.548088Z",
     "iopub.status.busy": "2022-09-15T22:29:10.547690Z",
     "iopub.status.idle": "2022-09-15T22:29:10.562413Z",
     "shell.execute_reply": "2022-09-15T22:29:10.561586Z"
    },
    "papermill": {
     "duration": 0.028526,
     "end_time": "2022-09-15T22:29:10.564726",
     "exception": false,
     "start_time": "2022-09-15T22:29:10.536200",
     "status": "completed"
    },
    "tags": []
   },
   "outputs": [],
   "source": [
    "# Replace unknown region with unknown\n",
    "for x in range(0,len(df2[\"Region\"])):\n",
    "    if df2[\"Region\"].loc[x] not in Region_list:\n",
    "        df2[\"Region\"].loc[x] = 'Unknown'\n",
    "    else:\n",
    "        pass"
   ]
  },
  {
   "cell_type": "code",
   "execution_count": 16,
   "id": "9607424f",
   "metadata": {
    "execution": {
     "iopub.execute_input": "2022-09-15T22:29:10.587182Z",
     "iopub.status.busy": "2022-09-15T22:29:10.586531Z",
     "iopub.status.idle": "2022-09-15T22:29:10.595383Z",
     "shell.execute_reply": "2022-09-15T22:29:10.594568Z"
    },
    "papermill": {
     "duration": 0.022776,
     "end_time": "2022-09-15T22:29:10.597798",
     "exception": false,
     "start_time": "2022-09-15T22:29:10.575022",
     "status": "completed"
    },
    "tags": []
   },
   "outputs": [],
   "source": [
    "df2.dropna(inplace=True)"
   ]
  },
  {
   "cell_type": "code",
   "execution_count": 17,
   "id": "2492fc2d",
   "metadata": {
    "execution": {
     "iopub.execute_input": "2022-09-15T22:29:10.620300Z",
     "iopub.status.busy": "2022-09-15T22:29:10.619656Z",
     "iopub.status.idle": "2022-09-15T22:29:10.628486Z",
     "shell.execute_reply": "2022-09-15T22:29:10.627605Z"
    },
    "papermill": {
     "duration": 0.022455,
     "end_time": "2022-09-15T22:29:10.630614",
     "exception": false,
     "start_time": "2022-09-15T22:29:10.608159",
     "status": "completed"
    },
    "tags": []
   },
   "outputs": [
    {
     "data": {
      "text/plain": [
       "Institution                   0\n",
       "Region                        0\n",
       "Description of opportunity    0\n",
       "Stipend                       0\n",
       "dtype: int64"
      ]
     },
     "execution_count": 17,
     "metadata": {},
     "output_type": "execute_result"
    }
   ],
   "source": [
    "df2.isna().sum()"
   ]
  },
  {
   "cell_type": "code",
   "execution_count": 18,
   "id": "a783521b",
   "metadata": {
    "execution": {
     "iopub.execute_input": "2022-09-15T22:29:10.652984Z",
     "iopub.status.busy": "2022-09-15T22:29:10.652319Z",
     "iopub.status.idle": "2022-09-15T22:29:10.664931Z",
     "shell.execute_reply": "2022-09-15T22:29:10.663884Z"
    },
    "papermill": {
     "duration": 0.026314,
     "end_time": "2022-09-15T22:29:10.667067",
     "exception": false,
     "start_time": "2022-09-15T22:29:10.640753",
     "status": "completed"
    },
    "tags": []
   },
   "outputs": [
    {
     "data": {
      "text/html": [
       "<div>\n",
       "<style scoped>\n",
       "    .dataframe tbody tr th:only-of-type {\n",
       "        vertical-align: middle;\n",
       "    }\n",
       "\n",
       "    .dataframe tbody tr th {\n",
       "        vertical-align: top;\n",
       "    }\n",
       "\n",
       "    .dataframe thead th {\n",
       "        text-align: right;\n",
       "    }\n",
       "</style>\n",
       "<table border=\"1\" class=\"dataframe\">\n",
       "  <thead>\n",
       "    <tr style=\"text-align: right;\">\n",
       "      <th></th>\n",
       "      <th>Institution</th>\n",
       "      <th>Description of opportunity</th>\n",
       "      <th>Stipend</th>\n",
       "    </tr>\n",
       "    <tr>\n",
       "      <th>Region</th>\n",
       "      <th></th>\n",
       "      <th></th>\n",
       "      <th></th>\n",
       "    </tr>\n",
       "  </thead>\n",
       "  <tbody>\n",
       "    <tr>\n",
       "      <th>Midwest</th>\n",
       "      <td>27</td>\n",
       "      <td>27</td>\n",
       "      <td>27</td>\n",
       "    </tr>\n",
       "    <tr>\n",
       "      <th>Northeast</th>\n",
       "      <td>25</td>\n",
       "      <td>25</td>\n",
       "      <td>25</td>\n",
       "    </tr>\n",
       "    <tr>\n",
       "      <th>Pacific</th>\n",
       "      <td>9</td>\n",
       "      <td>9</td>\n",
       "      <td>9</td>\n",
       "    </tr>\n",
       "    <tr>\n",
       "      <th>Rocky Mountain</th>\n",
       "      <td>5</td>\n",
       "      <td>5</td>\n",
       "      <td>5</td>\n",
       "    </tr>\n",
       "    <tr>\n",
       "      <th>Southeast</th>\n",
       "      <td>33</td>\n",
       "      <td>33</td>\n",
       "      <td>33</td>\n",
       "    </tr>\n",
       "    <tr>\n",
       "      <th>Unknown</th>\n",
       "      <td>15</td>\n",
       "      <td>15</td>\n",
       "      <td>15</td>\n",
       "    </tr>\n",
       "  </tbody>\n",
       "</table>\n",
       "</div>"
      ],
      "text/plain": [
       "                Institution  Description of opportunity  Stipend\n",
       "Region                                                          \n",
       "Midwest                  27                          27       27\n",
       "Northeast                25                          25       25\n",
       "Pacific                   9                           9        9\n",
       "Rocky Mountain            5                           5        5\n",
       "Southeast                33                          33       33\n",
       "Unknown                  15                          15       15"
      ]
     },
     "execution_count": 18,
     "metadata": {},
     "output_type": "execute_result"
    }
   ],
   "source": [
    "# Amount of opportunities available per region \n",
    "df2.groupby(by='Region').agg('count')"
   ]
  },
  {
   "cell_type": "markdown",
   "id": "9859d7d7",
   "metadata": {
    "papermill": {
     "duration": 0.009993,
     "end_time": "2022-09-15T22:29:10.687375",
     "exception": false,
     "start_time": "2022-09-15T22:29:10.677382",
     "status": "completed"
    },
    "tags": []
   },
   "source": [
    "# Find most common words in description"
   ]
  },
  {
   "cell_type": "code",
   "execution_count": 19,
   "id": "d981df6d",
   "metadata": {
    "execution": {
     "iopub.execute_input": "2022-09-15T22:29:10.710035Z",
     "iopub.status.busy": "2022-09-15T22:29:10.709368Z",
     "iopub.status.idle": "2022-09-15T22:29:10.714572Z",
     "shell.execute_reply": "2022-09-15T22:29:10.713808Z"
    },
    "papermill": {
     "duration": 0.018926,
     "end_time": "2022-09-15T22:29:10.716669",
     "exception": false,
     "start_time": "2022-09-15T22:29:10.697743",
     "status": "completed"
    },
    "tags": []
   },
   "outputs": [],
   "source": [
    "from nltk.tokenize import sent_tokenize, word_tokenize\n",
    "from nltk.corpus import stopwords\n",
    "import re\n",
    "#stops = set(stopwords.words('english'))\n",
    "#print(stops)"
   ]
  },
  {
   "cell_type": "code",
   "execution_count": 20,
   "id": "fb14b011",
   "metadata": {
    "execution": {
     "iopub.execute_input": "2022-09-15T22:29:10.739625Z",
     "iopub.status.busy": "2022-09-15T22:29:10.738887Z",
     "iopub.status.idle": "2022-09-15T22:29:10.743663Z",
     "shell.execute_reply": "2022-09-15T22:29:10.742869Z"
    },
    "papermill": {
     "duration": 0.018877,
     "end_time": "2022-09-15T22:29:10.745866",
     "exception": false,
     "start_time": "2022-09-15T22:29:10.726989",
     "status": "completed"
    },
    "tags": []
   },
   "outputs": [],
   "source": [
    "tokens_list = []"
   ]
  },
  {
   "cell_type": "code",
   "execution_count": 21,
   "id": "a192660c",
   "metadata": {
    "execution": {
     "iopub.execute_input": "2022-09-15T22:29:10.769148Z",
     "iopub.status.busy": "2022-09-15T22:29:10.768361Z",
     "iopub.status.idle": "2022-09-15T22:29:10.776335Z",
     "shell.execute_reply": "2022-09-15T22:29:10.775502Z"
    },
    "papermill": {
     "duration": 0.022328,
     "end_time": "2022-09-15T22:29:10.778990",
     "exception": false,
     "start_time": "2022-09-15T22:29:10.756662",
     "status": "completed"
    },
    "tags": []
   },
   "outputs": [],
   "source": [
    "for x in range(0,len(df2[\"Description of opportunity\"])):\n",
    "    t = df2[\"Description of opportunity\"].loc[x] \n",
    "    tokens_list.append(t)\n",
    "    #tokens = nltk.word_tokenize(df2[\"Description of opportunity\"][0])"
   ]
  },
  {
   "cell_type": "code",
   "execution_count": 22,
   "id": "3acce884",
   "metadata": {
    "execution": {
     "iopub.execute_input": "2022-09-15T22:29:10.803202Z",
     "iopub.status.busy": "2022-09-15T22:29:10.802486Z",
     "iopub.status.idle": "2022-09-15T22:29:10.924831Z",
     "shell.execute_reply": "2022-09-15T22:29:10.923767Z"
    },
    "papermill": {
     "duration": 0.138009,
     "end_time": "2022-09-15T22:29:10.927884",
     "exception": false,
     "start_time": "2022-09-15T22:29:10.789875",
     "status": "completed"
    },
    "tags": []
   },
   "outputs": [],
   "source": [
    "token_words = ' '.join(tokens_list)\n",
    "tokens = nltk.word_tokenize(token_words)\n",
    "#token_l = nltk.Text(tokens)"
   ]
  },
  {
   "cell_type": "code",
   "execution_count": 23,
   "id": "21c4922e",
   "metadata": {
    "execution": {
     "iopub.execute_input": "2022-09-15T22:29:10.950791Z",
     "iopub.status.busy": "2022-09-15T22:29:10.950252Z",
     "iopub.status.idle": "2022-09-15T22:29:10.967791Z",
     "shell.execute_reply": "2022-09-15T22:29:10.966602Z"
    },
    "papermill": {
     "duration": 0.031878,
     "end_time": "2022-09-15T22:29:10.970501",
     "exception": false,
     "start_time": "2022-09-15T22:29:10.938623",
     "status": "completed"
    },
    "tags": []
   },
   "outputs": [],
   "source": [
    "stopWords = set(stopwords.words('english'))\n",
    "stopWords_custom = [\"The\", \".\", \",\", \":\",\";\", \")\", \"(\",\"’\",\"&\",\"•\",\"%\",\"This\"]\n",
    "#words = word_tokenize(data)\n",
    "wordsFiltered = []\n",
    "\n",
    "for w in tokens:\n",
    "    if w not in stopWords:\n",
    "        if w in stopWords_custom:\n",
    "            pass\n",
    "        else:\n",
    "            wordsFiltered.append(w)"
   ]
  },
  {
   "cell_type": "code",
   "execution_count": 24,
   "id": "2b040823",
   "metadata": {
    "execution": {
     "iopub.execute_input": "2022-09-15T22:29:10.993730Z",
     "iopub.status.busy": "2022-09-15T22:29:10.992677Z",
     "iopub.status.idle": "2022-09-15T22:29:11.000774Z",
     "shell.execute_reply": "2022-09-15T22:29:10.999886Z"
    },
    "papermill": {
     "duration": 0.021873,
     "end_time": "2022-09-15T22:29:11.002965",
     "exception": false,
     "start_time": "2022-09-15T22:29:10.981092",
     "status": "completed"
    },
    "tags": []
   },
   "outputs": [],
   "source": [
    "from collections import Counter\n",
    "most_occur = []\n",
    "  \n",
    "# Pass the split_it list to instance of Counter class.\n",
    "Counter = Counter(wordsFiltered)\n",
    "  \n",
    "# most_common() produces k frequently encountered\n",
    "# input values and their respective counts.\n",
    "most_occur = Counter.most_common(100) \n",
    "#print(most_occur)"
   ]
  },
  {
   "cell_type": "code",
   "execution_count": 25,
   "id": "6cc3a2d8",
   "metadata": {
    "execution": {
     "iopub.execute_input": "2022-09-15T22:29:11.026472Z",
     "iopub.status.busy": "2022-09-15T22:29:11.025455Z",
     "iopub.status.idle": "2022-09-15T22:29:11.031312Z",
     "shell.execute_reply": "2022-09-15T22:29:11.029843Z"
    },
    "papermill": {
     "duration": 0.019886,
     "end_time": "2022-09-15T22:29:11.033497",
     "exception": false,
     "start_time": "2022-09-15T22:29:11.013611",
     "status": "completed"
    },
    "tags": []
   },
   "outputs": [
    {
     "name": "stdout",
     "output_type": "stream",
     "text": [
      "[('research', 206), ('clinical', 134), ('program', 115), ('fellowship', 106), ('fellow', 102), ('Pharmacy', 84), ('experience', 81), ('training', 74), ('pharmacy', 74), ('health', 70), ('practice', 69), ('University', 56), ('skills', 54), ('teaching', 52), ('Fellowship', 47), ('care', 47), ('provide', 45), ('Health', 44), ('development', 40), ('drug', 40)]\n"
     ]
    }
   ],
   "source": [
    "# 20 most common words in description\n",
    "print(most_occur[:20])"
   ]
  },
  {
   "cell_type": "markdown",
   "id": "dbd9b8dd",
   "metadata": {
    "papermill": {
     "duration": 0.010806,
     "end_time": "2022-09-15T22:29:11.054941",
     "exception": false,
     "start_time": "2022-09-15T22:29:11.044135",
     "status": "completed"
    },
    "tags": []
   },
   "source": [
    "# Get contact emails"
   ]
  },
  {
   "cell_type": "code",
   "execution_count": 26,
   "id": "935dcb81",
   "metadata": {
    "execution": {
     "iopub.execute_input": "2022-09-15T22:29:11.085855Z",
     "iopub.status.busy": "2022-09-15T22:29:11.085033Z",
     "iopub.status.idle": "2022-09-15T22:29:11.104830Z",
     "shell.execute_reply": "2022-09-15T22:29:11.103818Z"
    },
    "papermill": {
     "duration": 0.037916,
     "end_time": "2022-09-15T22:29:11.108147",
     "exception": false,
     "start_time": "2022-09-15T22:29:11.070231",
     "status": "completed"
    },
    "tags": []
   },
   "outputs": [
    {
     "data": {
      "text/html": [
       "<div>\n",
       "<style scoped>\n",
       "    .dataframe tbody tr th:only-of-type {\n",
       "        vertical-align: middle;\n",
       "    }\n",
       "\n",
       "    .dataframe tbody tr th {\n",
       "        vertical-align: top;\n",
       "    }\n",
       "\n",
       "    .dataframe thead th {\n",
       "        text-align: right;\n",
       "    }\n",
       "</style>\n",
       "<table border=\"1\" class=\"dataframe\">\n",
       "  <thead>\n",
       "    <tr style=\"text-align: right;\">\n",
       "      <th></th>\n",
       "      <th>Preceptor</th>\n",
       "      <th>Institution</th>\n",
       "      <th>Contact</th>\n",
       "    </tr>\n",
       "  </thead>\n",
       "  <tbody>\n",
       "    <tr>\n",
       "      <th>0</th>\n",
       "      <td>Dr. William Gong</td>\n",
       "      <td>University of Southern California</td>\n",
       "      <td>Dr. William GongUniversity of Southern Califor...</td>\n",
       "    </tr>\n",
       "    <tr>\n",
       "      <th>1</th>\n",
       "      <td>Dan Majerczyk, Pharm.D. or Nicole Alvey, Pharm.D.</td>\n",
       "      <td>Roosevelt University College of Science, Healt...</td>\n",
       "      <td>Dan Majerczyk, Pharm.D. or Nicole Alvey, Pharm...</td>\n",
       "    </tr>\n",
       "    <tr>\n",
       "      <th>2</th>\n",
       "      <td>Kim Elder</td>\n",
       "      <td>Sullivan University College of Pharmacy and He...</td>\n",
       "      <td>Kim ElderSullivan University College of Pharma...</td>\n",
       "    </tr>\n",
       "    <tr>\n",
       "      <th>3</th>\n",
       "      <td>Dana Jamero</td>\n",
       "      <td>Xavier University of Louisiana</td>\n",
       "      <td>Dana JameroXavier University of Louisiana1 Dre...</td>\n",
       "    </tr>\n",
       "    <tr>\n",
       "      <th>4</th>\n",
       "      <td>Susan Charamut</td>\n",
       "      <td>University of North Carolina</td>\n",
       "      <td>Susan CharamutUniversity of North Carolina301 ...</td>\n",
       "    </tr>\n",
       "    <tr>\n",
       "      <th>...</th>\n",
       "      <td>...</td>\n",
       "      <td>...</td>\n",
       "      <td>...</td>\n",
       "    </tr>\n",
       "    <tr>\n",
       "      <th>110</th>\n",
       "      <td>Bruce Anderson, PharmD, DABAT, FACCT</td>\n",
       "      <td>University of Maryland</td>\n",
       "      <td>Bruce Anderson, PharmD, DABAT, FACCTUniversity...</td>\n",
       "    </tr>\n",
       "    <tr>\n",
       "      <th>111</th>\n",
       "      <td>Jennie Jarrett, PharmD, BCPS, MMedEd, FCCP</td>\n",
       "      <td>University of Illinois at Chicago</td>\n",
       "      <td>Jennie Jarrett, PharmD, BCPS, MMedEd, FCCPUniv...</td>\n",
       "    </tr>\n",
       "    <tr>\n",
       "      <th>112</th>\n",
       "      <td>Karen Farris</td>\n",
       "      <td>University of Michigan</td>\n",
       "      <td>Karen FarrisUniversity of Michigan428 Church S...</td>\n",
       "    </tr>\n",
       "    <tr>\n",
       "      <th>113</th>\n",
       "      <td>Laney Jones</td>\n",
       "      <td>Geisinger</td>\n",
       "      <td>Laney JonesGeisinger100 N Academy AveDanville,...</td>\n",
       "    </tr>\n",
       "    <tr>\n",
       "      <th>114</th>\n",
       "      <td>NaN</td>\n",
       "      <td>NaN</td>\n",
       "      <td>NaN</td>\n",
       "    </tr>\n",
       "  </tbody>\n",
       "</table>\n",
       "<p>115 rows × 3 columns</p>\n",
       "</div>"
      ],
      "text/plain": [
       "                                             Preceptor  \\\n",
       "0                                     Dr. William Gong   \n",
       "1    Dan Majerczyk, Pharm.D. or Nicole Alvey, Pharm.D.   \n",
       "2                                            Kim Elder   \n",
       "3                                          Dana Jamero   \n",
       "4                                       Susan Charamut   \n",
       "..                                                 ...   \n",
       "110               Bruce Anderson, PharmD, DABAT, FACCT   \n",
       "111         Jennie Jarrett, PharmD, BCPS, MMedEd, FCCP   \n",
       "112                                       Karen Farris   \n",
       "113                                        Laney Jones   \n",
       "114                                                NaN   \n",
       "\n",
       "                                           Institution  \\\n",
       "0                    University of Southern California   \n",
       "1    Roosevelt University College of Science, Healt...   \n",
       "2    Sullivan University College of Pharmacy and He...   \n",
       "3                       Xavier University of Louisiana   \n",
       "4                         University of North Carolina   \n",
       "..                                                 ...   \n",
       "110                             University of Maryland   \n",
       "111                  University of Illinois at Chicago   \n",
       "112                             University of Michigan   \n",
       "113                                          Geisinger   \n",
       "114                                                NaN   \n",
       "\n",
       "                                               Contact  \n",
       "0    Dr. William GongUniversity of Southern Califor...  \n",
       "1    Dan Majerczyk, Pharm.D. or Nicole Alvey, Pharm...  \n",
       "2    Kim ElderSullivan University College of Pharma...  \n",
       "3    Dana JameroXavier University of Louisiana1 Dre...  \n",
       "4    Susan CharamutUniversity of North Carolina301 ...  \n",
       "..                                                 ...  \n",
       "110  Bruce Anderson, PharmD, DABAT, FACCTUniversity...  \n",
       "111  Jennie Jarrett, PharmD, BCPS, MMedEd, FCCPUniv...  \n",
       "112  Karen FarrisUniversity of Michigan428 Church S...  \n",
       "113  Laney JonesGeisinger100 N Academy AveDanville,...  \n",
       "114                                                NaN  \n",
       "\n",
       "[115 rows x 3 columns]"
      ]
     },
     "execution_count": 26,
     "metadata": {},
     "output_type": "execute_result"
    }
   ],
   "source": [
    "# Create Series by assigning names\n",
    "Preceptor = pd.Series(df[\"Preceptor\"])\n",
    "Institution = pd.Series(df[\"Institution\"])\n",
    "Contact = pd.Series(df[\"Contact\"])\n",
    "\n",
    "# using pandas series merge()\n",
    "df3 = pd.merge(Preceptor, Institution, right_index = True,\n",
    "               left_index = True)\n",
    "\n",
    "# using pandas series merge()\n",
    "df3 = pd.merge(df3, Contact, right_index = True,\n",
    "               left_index = True)     \n",
    "               \n",
    "df3"
   ]
  },
  {
   "cell_type": "code",
   "execution_count": 27,
   "id": "5c5ca895",
   "metadata": {
    "execution": {
     "iopub.execute_input": "2022-09-15T22:29:11.138352Z",
     "iopub.status.busy": "2022-09-15T22:29:11.137661Z",
     "iopub.status.idle": "2022-09-15T22:29:11.146026Z",
     "shell.execute_reply": "2022-09-15T22:29:11.145072Z"
    },
    "papermill": {
     "duration": 0.028157,
     "end_time": "2022-09-15T22:29:11.151318",
     "exception": false,
     "start_time": "2022-09-15T22:29:11.123161",
     "status": "completed"
    },
    "tags": []
   },
   "outputs": [],
   "source": [
    "df3.dropna(inplace=True)\n",
    "#df3.isna().sum()"
   ]
  },
  {
   "cell_type": "code",
   "execution_count": 28,
   "id": "025956db",
   "metadata": {
    "execution": {
     "iopub.execute_input": "2022-09-15T22:29:11.178658Z",
     "iopub.status.busy": "2022-09-15T22:29:11.178185Z",
     "iopub.status.idle": "2022-09-15T22:29:11.185219Z",
     "shell.execute_reply": "2022-09-15T22:29:11.184141Z"
    },
    "papermill": {
     "duration": 0.022405,
     "end_time": "2022-09-15T22:29:11.187623",
     "exception": false,
     "start_time": "2022-09-15T22:29:11.165218",
     "status": "completed"
    },
    "tags": []
   },
   "outputs": [
    {
     "data": {
      "text/plain": [
       "'Dr. William GongUniversity of Southern California1985 Zonal AvenueLos Angeles, CA 90089(323) 442-2625 (Phone)wgong@usc.edu'"
      ]
     },
     "execution_count": 28,
     "metadata": {},
     "output_type": "execute_result"
    }
   ],
   "source": [
    "df[\"Contact\"][0]"
   ]
  },
  {
   "cell_type": "code",
   "execution_count": 29,
   "id": "34ec8c0b",
   "metadata": {
    "execution": {
     "iopub.execute_input": "2022-09-15T22:29:11.211938Z",
     "iopub.status.busy": "2022-09-15T22:29:11.210867Z",
     "iopub.status.idle": "2022-09-15T22:29:11.217564Z",
     "shell.execute_reply": "2022-09-15T22:29:11.216728Z"
    },
    "papermill": {
     "duration": 0.020951,
     "end_time": "2022-09-15T22:29:11.219772",
     "exception": false,
     "start_time": "2022-09-15T22:29:11.198821",
     "status": "completed"
    },
    "tags": []
   },
   "outputs": [],
   "source": [
    "# Filter out email from contact string\n",
    "Email = []\n",
    "for x in df3[\"Contact\"]: \n",
    "    #x.split(\"(Phone)\")\n",
    "    #print(x)\n",
    "    # Remove all characters before the character '-' from string\n",
    "    listOfWords = x.split(\"(Phone)\", 1)\n",
    "    if len(listOfWords) > 0: \n",
    "        strValue = listOfWords[1]\n",
    "    Email.append(strValue)"
   ]
  },
  {
   "cell_type": "code",
   "execution_count": 30,
   "id": "027eb394",
   "metadata": {
    "execution": {
     "iopub.execute_input": "2022-09-15T22:29:11.243653Z",
     "iopub.status.busy": "2022-09-15T22:29:11.242747Z",
     "iopub.status.idle": "2022-09-15T22:29:11.249110Z",
     "shell.execute_reply": "2022-09-15T22:29:11.248241Z"
    },
    "papermill": {
     "duration": 0.020459,
     "end_time": "2022-09-15T22:29:11.251226",
     "exception": false,
     "start_time": "2022-09-15T22:29:11.230767",
     "status": "completed"
    },
    "tags": []
   },
   "outputs": [],
   "source": [
    "df3.drop(columns=\"Contact\", inplace=True)\n",
    "df3[\"Email\"] = Email"
   ]
  },
  {
   "cell_type": "code",
   "execution_count": 31,
   "id": "7d2a0852",
   "metadata": {
    "execution": {
     "iopub.execute_input": "2022-09-15T22:29:11.274803Z",
     "iopub.status.busy": "2022-09-15T22:29:11.274203Z",
     "iopub.status.idle": "2022-09-15T22:29:11.278224Z",
     "shell.execute_reply": "2022-09-15T22:29:11.277377Z"
    },
    "papermill": {
     "duration": 0.018139,
     "end_time": "2022-09-15T22:29:11.280340",
     "exception": false,
     "start_time": "2022-09-15T22:29:11.262201",
     "status": "completed"
    },
    "tags": []
   },
   "outputs": [],
   "source": [
    "# Export emails to csv\n",
    "#df3.to_csv(\"midYearFellowshipEmails.csv\",index=False)"
   ]
  },
  {
   "cell_type": "markdown",
   "id": "340fdc17",
   "metadata": {
    "papermill": {
     "duration": 0.010538,
     "end_time": "2022-09-15T22:29:11.301729",
     "exception": false,
     "start_time": "2022-09-15T22:29:11.291191",
     "status": "completed"
    },
    "tags": []
   },
   "source": [
    "# Create CSV file to use in Tableau"
   ]
  },
  {
   "cell_type": "code",
   "execution_count": 32,
   "id": "cde5188c",
   "metadata": {
    "execution": {
     "iopub.execute_input": "2022-09-15T22:29:11.325326Z",
     "iopub.status.busy": "2022-09-15T22:29:11.324712Z",
     "iopub.status.idle": "2022-09-15T22:29:11.329860Z",
     "shell.execute_reply": "2022-09-15T22:29:11.328847Z"
    },
    "papermill": {
     "duration": 0.019487,
     "end_time": "2022-09-15T22:29:11.332070",
     "exception": false,
     "start_time": "2022-09-15T22:29:11.312583",
     "status": "completed"
    },
    "tags": []
   },
   "outputs": [],
   "source": [
    "df4 = df2.drop(columns=\"Description of opportunity\")"
   ]
  },
  {
   "cell_type": "code",
   "execution_count": 33,
   "id": "0b243def",
   "metadata": {
    "execution": {
     "iopub.execute_input": "2022-09-15T22:29:11.355875Z",
     "iopub.status.busy": "2022-09-15T22:29:11.355234Z",
     "iopub.status.idle": "2022-09-15T22:29:11.364108Z",
     "shell.execute_reply": "2022-09-15T22:29:11.362951Z"
    },
    "papermill": {
     "duration": 0.023061,
     "end_time": "2022-09-15T22:29:11.366180",
     "exception": false,
     "start_time": "2022-09-15T22:29:11.343119",
     "status": "completed"
    },
    "tags": []
   },
   "outputs": [
    {
     "data": {
      "text/plain": [
       "Institution    0\n",
       "Region         0\n",
       "Stipend        0\n",
       "dtype: int64"
      ]
     },
     "execution_count": 33,
     "metadata": {},
     "output_type": "execute_result"
    }
   ],
   "source": [
    "df4.isna().sum()"
   ]
  },
  {
   "cell_type": "code",
   "execution_count": 34,
   "id": "ce8e3982",
   "metadata": {
    "execution": {
     "iopub.execute_input": "2022-09-15T22:29:11.390374Z",
     "iopub.status.busy": "2022-09-15T22:29:11.389764Z",
     "iopub.status.idle": "2022-09-15T22:29:11.395341Z",
     "shell.execute_reply": "2022-09-15T22:29:11.394595Z"
    },
    "papermill": {
     "duration": 0.019954,
     "end_time": "2022-09-15T22:29:11.397334",
     "exception": false,
     "start_time": "2022-09-15T22:29:11.377380",
     "status": "completed"
    },
    "tags": []
   },
   "outputs": [
    {
     "data": {
      "text/plain": [
       "Index(['Institution', 'Region', 'Stipend'], dtype='object')"
      ]
     },
     "execution_count": 34,
     "metadata": {},
     "output_type": "execute_result"
    }
   ],
   "source": [
    "df4.columns"
   ]
  },
  {
   "cell_type": "code",
   "execution_count": 35,
   "id": "45376643",
   "metadata": {
    "execution": {
     "iopub.execute_input": "2022-09-15T22:29:11.421629Z",
     "iopub.status.busy": "2022-09-15T22:29:11.421001Z",
     "iopub.status.idle": "2022-09-15T22:29:11.424591Z",
     "shell.execute_reply": "2022-09-15T22:29:11.423789Z"
    },
    "papermill": {
     "duration": 0.018112,
     "end_time": "2022-09-15T22:29:11.426611",
     "exception": false,
     "start_time": "2022-09-15T22:29:11.408499",
     "status": "completed"
    },
    "tags": []
   },
   "outputs": [],
   "source": [
    "# Export to csv file\n",
    "#df4.to_csv(\"midYearFellowshipLight.csv\", index=False)"
   ]
  }
 ],
 "metadata": {
  "kernelspec": {
   "display_name": "Python 3",
   "language": "python",
   "name": "python3"
  },
  "language_info": {
   "codemirror_mode": {
    "name": "ipython",
    "version": 3
   },
   "file_extension": ".py",
   "mimetype": "text/x-python",
   "name": "python",
   "nbconvert_exporter": "python",
   "pygments_lexer": "ipython3",
   "version": "3.7.12"
  },
  "papermill": {
   "default_parameters": {},
   "duration": 13.20263,
   "end_time": "2022-09-15T22:29:12.160275",
   "environment_variables": {},
   "exception": null,
   "input_path": "__notebook__.ipynb",
   "output_path": "__notebook__.ipynb",
   "parameters": {},
   "start_time": "2022-09-15T22:28:58.957645",
   "version": "2.3.4"
  }
 },
 "nbformat": 4,
 "nbformat_minor": 5
}
