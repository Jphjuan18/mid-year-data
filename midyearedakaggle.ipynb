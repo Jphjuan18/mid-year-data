{
 "cells": [
  {
   "cell_type": "markdown",
   "id": "38c16da1",
   "metadata": {
    "_cell_guid": "b1076dfc-b9ad-4769-8c92-a6c4dae69d19",
    "_uuid": "8f2839f25d086af736a60e9eeb907d3b93b6e0e5",
    "papermill": {
     "duration": 0.011273,
     "end_time": "2022-09-15T22:14:03.033080",
     "exception": false,
     "start_time": "2022-09-15T22:14:03.021807",
     "status": "completed"
    },
    "tags": []
   },
   "source": [
    "# This Python 3 environment comes with many helpful analytics libraries installed\n",
    "# It is defined by the kaggle/python Docker image: https://github.com/kaggle/docker-python\n",
    "# For example, here's several helpful packages to load\n",
    "\n",
    "import numpy as np # linear algebra\n",
    "import pandas as pd # data processing, CSV file I/O (e.g. pd.read_csv)\n",
    "\n",
    "# Input data files are available in the read-only \"../input/\" directory\n",
    "# For example, running this (by clicking run or pressing Shift+Enter) will list all files under the input directory\n",
    "\n",
    "import os\n",
    "for dirname, _, filenames in os.walk('/kaggle/input'):\n",
    "    for filename in filenames:\n",
    "        print(os.path.join(dirname, filename))\n",
    "\n",
    "# You can write up to 20GB to the current directory (/kaggle/working/) that gets preserved as output when you create a version using \"Save & Run All\" \n",
    "# You can also write temporary files to /kaggle/temp/, but they won't be saved outside of the current session"
   ]
  },
  {
   "cell_type": "code",
   "execution_count": 1,
   "id": "2275d578",
   "metadata": {
    "execution": {
     "iopub.execute_input": "2022-09-15T22:14:03.055585Z",
     "iopub.status.busy": "2022-09-15T22:14:03.055071Z",
     "iopub.status.idle": "2022-09-15T22:14:03.076268Z",
     "shell.execute_reply": "2022-09-15T22:14:03.075113Z"
    },
    "papermill": {
     "duration": 0.035361,
     "end_time": "2022-09-15T22:14:03.078804",
     "exception": false,
     "start_time": "2022-09-15T22:14:03.043443",
     "status": "completed"
    },
    "tags": []
   },
   "outputs": [
    {
     "name": "stdout",
     "output_type": "stream",
     "text": [
      "/kaggle/input/midyeardata/midYearFellowship.csv\n",
      "/kaggle/input/midyeardata/midYearResidency.csv\n"
     ]
    }
   ],
   "source": [
    "import os\n",
    "for dirname, _, filenames in os.walk('/kaggle/input'):\n",
    "    for filename in filenames:\n",
    "        print(os.path.join(dirname, filename))"
   ]
  },
  {
   "cell_type": "code",
   "execution_count": 2,
   "id": "7ff504a3",
   "metadata": {
    "execution": {
     "iopub.execute_input": "2022-09-15T22:14:03.100308Z",
     "iopub.status.busy": "2022-09-15T22:14:03.099634Z",
     "iopub.status.idle": "2022-09-15T22:14:04.831120Z",
     "shell.execute_reply": "2022-09-15T22:14:04.830272Z"
    },
    "papermill": {
     "duration": 1.744826,
     "end_time": "2022-09-15T22:14:04.833615",
     "exception": false,
     "start_time": "2022-09-15T22:14:03.088789",
     "status": "completed"
    },
    "tags": []
   },
   "outputs": [],
   "source": [
    "import pandas as pd\n",
    "import numpy as np\n",
    "import re\n",
    "import nltk\n",
    "#import tensorflow as tf"
   ]
  },
  {
   "cell_type": "code",
   "execution_count": 3,
   "id": "fe881e7e",
   "metadata": {
    "execution": {
     "iopub.execute_input": "2022-09-15T22:14:04.855232Z",
     "iopub.status.busy": "2022-09-15T22:14:04.854438Z",
     "iopub.status.idle": "2022-09-15T22:14:04.884147Z",
     "shell.execute_reply": "2022-09-15T22:14:04.882871Z"
    },
    "papermill": {
     "duration": 0.043342,
     "end_time": "2022-09-15T22:14:04.886902",
     "exception": false,
     "start_time": "2022-09-15T22:14:04.843560",
     "status": "completed"
    },
    "tags": []
   },
   "outputs": [],
   "source": [
    "df = pd.read_csv(\"/kaggle/input/midyeardata/midYearFellowship.csv\", index_col=0)"
   ]
  },
  {
   "cell_type": "code",
   "execution_count": 4,
   "id": "164c6020",
   "metadata": {
    "execution": {
     "iopub.execute_input": "2022-09-15T22:14:04.908739Z",
     "iopub.status.busy": "2022-09-15T22:14:04.908327Z",
     "iopub.status.idle": "2022-09-15T22:14:04.927674Z",
     "shell.execute_reply": "2022-09-15T22:14:04.926089Z"
    },
    "papermill": {
     "duration": 0.032478,
     "end_time": "2022-09-15T22:14:04.930197",
     "exception": false,
     "start_time": "2022-09-15T22:14:04.897719",
     "status": "completed"
    },
    "tags": []
   },
   "outputs": [
    {
     "name": "stdout",
     "output_type": "stream",
     "text": [
      "<class 'pandas.core.frame.DataFrame'>\n",
      "Int64Index: 115 entries, 0 to 114\n",
      "Data columns (total 14 columns):\n",
      " #   Column                      Non-Null Count  Dtype  \n",
      "---  ------                      --------------  -----  \n",
      " 0   Type of Program             114 non-null    object \n",
      " 1   Primary Setting             112 non-null    object \n",
      " 2   Description of opportunity  114 non-null    object \n",
      " 3   Preceptor                   114 non-null    object \n",
      " 4   Institution                 114 non-null    object \n",
      " 5   Length (Yrs)                114 non-null    float64\n",
      " 6   Start Date                  114 non-null    object \n",
      " 7   Stipend                     98 non-null     object \n",
      " 8   Number of These Positions   114 non-null    float64\n",
      " 9   Region                      104 non-null    object \n",
      " 10  Program Website             91 non-null     object \n",
      " 11  Contact                     114 non-null    object \n",
      " 12  Web ID                      114 non-null    object \n",
      " 13  Last Modified               114 non-null    object \n",
      "dtypes: float64(2), object(12)\n",
      "memory usage: 13.5+ KB\n"
     ]
    }
   ],
   "source": [
    "df.info()"
   ]
  },
  {
   "cell_type": "code",
   "execution_count": 5,
   "id": "c402f803",
   "metadata": {
    "execution": {
     "iopub.execute_input": "2022-09-15T22:14:04.951671Z",
     "iopub.status.busy": "2022-09-15T22:14:04.950980Z",
     "iopub.status.idle": "2022-09-15T22:14:04.963442Z",
     "shell.execute_reply": "2022-09-15T22:14:04.961965Z"
    },
    "papermill": {
     "duration": 0.025899,
     "end_time": "2022-09-15T22:14:04.965937",
     "exception": false,
     "start_time": "2022-09-15T22:14:04.940038",
     "status": "completed"
    },
    "tags": []
   },
   "outputs": [
    {
     "data": {
      "text/plain": [
       "Type of Program                1\n",
       "Primary Setting                3\n",
       "Description of opportunity     1\n",
       "Preceptor                      1\n",
       "Institution                    1\n",
       "Length (Yrs)                   1\n",
       "Start Date                     1\n",
       "Stipend                       17\n",
       "Number of These Positions      1\n",
       "Region                        11\n",
       "Program Website               24\n",
       "Contact                        1\n",
       "Web ID                         1\n",
       "Last Modified                  1\n",
       "dtype: int64"
      ]
     },
     "execution_count": 5,
     "metadata": {},
     "output_type": "execute_result"
    }
   ],
   "source": [
    "df.isna().sum()"
   ]
  },
  {
   "cell_type": "code",
   "execution_count": 6,
   "id": "5dc4f7c8",
   "metadata": {
    "execution": {
     "iopub.execute_input": "2022-09-15T22:14:04.987378Z",
     "iopub.status.busy": "2022-09-15T22:14:04.986937Z",
     "iopub.status.idle": "2022-09-15T22:14:04.992809Z",
     "shell.execute_reply": "2022-09-15T22:14:04.991638Z"
    },
    "papermill": {
     "duration": 0.019412,
     "end_time": "2022-09-15T22:14:04.995164",
     "exception": false,
     "start_time": "2022-09-15T22:14:04.975752",
     "status": "completed"
    },
    "tags": []
   },
   "outputs": [],
   "source": [
    "df['Stipend'] = df['Stipend'].fillna(\"$0.00\")"
   ]
  },
  {
   "cell_type": "code",
   "execution_count": 7,
   "id": "9b457c35",
   "metadata": {
    "execution": {
     "iopub.execute_input": "2022-09-15T22:14:05.016410Z",
     "iopub.status.busy": "2022-09-15T22:14:05.015660Z",
     "iopub.status.idle": "2022-09-15T22:14:05.045948Z",
     "shell.execute_reply": "2022-09-15T22:14:05.044801Z"
    },
    "papermill": {
     "duration": 0.043592,
     "end_time": "2022-09-15T22:14:05.048439",
     "exception": false,
     "start_time": "2022-09-15T22:14:05.004847",
     "status": "completed"
    },
    "tags": []
   },
   "outputs": [
    {
     "data": {
      "text/html": [
       "<div>\n",
       "<style scoped>\n",
       "    .dataframe tbody tr th:only-of-type {\n",
       "        vertical-align: middle;\n",
       "    }\n",
       "\n",
       "    .dataframe tbody tr th {\n",
       "        vertical-align: top;\n",
       "    }\n",
       "\n",
       "    .dataframe thead th {\n",
       "        text-align: right;\n",
       "    }\n",
       "</style>\n",
       "<table border=\"1\" class=\"dataframe\">\n",
       "  <thead>\n",
       "    <tr style=\"text-align: right;\">\n",
       "      <th></th>\n",
       "      <th>Institution</th>\n",
       "      <th>Region</th>\n",
       "      <th>Stipend</th>\n",
       "      <th>Description of opportunity</th>\n",
       "    </tr>\n",
       "  </thead>\n",
       "  <tbody>\n",
       "    <tr>\n",
       "      <th>0</th>\n",
       "      <td>University of Southern California</td>\n",
       "      <td>Pacific</td>\n",
       "      <td>$63,750.00</td>\n",
       "      <td>The one-year Academic Pharmacy Fellowship is d...</td>\n",
       "    </tr>\n",
       "    <tr>\n",
       "      <th>1</th>\n",
       "      <td>Roosevelt University College of Science, Healt...</td>\n",
       "      <td>Midwest</td>\n",
       "      <td>$50,000.00</td>\n",
       "      <td>Roosevelt University College of Science, Healt...</td>\n",
       "    </tr>\n",
       "    <tr>\n",
       "      <th>2</th>\n",
       "      <td>Sullivan University College of Pharmacy and He...</td>\n",
       "      <td>Southeast</td>\n",
       "      <td>$48,000.00</td>\n",
       "      <td>This 12-month academic fellowship at Sullivan ...</td>\n",
       "    </tr>\n",
       "    <tr>\n",
       "      <th>3</th>\n",
       "      <td>Xavier University of Louisiana</td>\n",
       "      <td>Southeast</td>\n",
       "      <td>$0.00</td>\n",
       "      <td>The Fellowship in Clinical Pharmacy Education ...</td>\n",
       "    </tr>\n",
       "    <tr>\n",
       "      <th>4</th>\n",
       "      <td>University of North Carolina</td>\n",
       "      <td>Southeast</td>\n",
       "      <td>$0.00</td>\n",
       "      <td>The Center for Innovative Pharmacy Education a...</td>\n",
       "    </tr>\n",
       "    <tr>\n",
       "      <th>...</th>\n",
       "      <td>...</td>\n",
       "      <td>...</td>\n",
       "      <td>...</td>\n",
       "      <td>...</td>\n",
       "    </tr>\n",
       "    <tr>\n",
       "      <th>110</th>\n",
       "      <td>University of Maryland</td>\n",
       "      <td>Southeast</td>\n",
       "      <td>$0.00</td>\n",
       "      <td>The University of Maryland Medical Center and ...</td>\n",
       "    </tr>\n",
       "    <tr>\n",
       "      <th>111</th>\n",
       "      <td>University of Illinois at Chicago</td>\n",
       "      <td>Midwest</td>\n",
       "      <td>$52,000.00</td>\n",
       "      <td>The University of Illinois at Chicago (UIC) Co...</td>\n",
       "    </tr>\n",
       "    <tr>\n",
       "      <th>112</th>\n",
       "      <td>University of Michigan</td>\n",
       "      <td>Midwest</td>\n",
       "      <td>$56,000.00</td>\n",
       "      <td>The faculty in the department are seeking appl...</td>\n",
       "    </tr>\n",
       "    <tr>\n",
       "      <th>113</th>\n",
       "      <td>Geisinger</td>\n",
       "      <td>Northeast</td>\n",
       "      <td>$0.00</td>\n",
       "      <td>Responsible for conducting research under the ...</td>\n",
       "    </tr>\n",
       "    <tr>\n",
       "      <th>114</th>\n",
       "      <td>NaN</td>\n",
       "      <td>NaN</td>\n",
       "      <td>$0.00</td>\n",
       "      <td>NaN</td>\n",
       "    </tr>\n",
       "  </tbody>\n",
       "</table>\n",
       "<p>115 rows × 4 columns</p>\n",
       "</div>"
      ],
      "text/plain": [
       "                                           Institution     Region     Stipend  \\\n",
       "0                    University of Southern California    Pacific  $63,750.00   \n",
       "1    Roosevelt University College of Science, Healt...    Midwest  $50,000.00   \n",
       "2    Sullivan University College of Pharmacy and He...  Southeast  $48,000.00   \n",
       "3                       Xavier University of Louisiana  Southeast       $0.00   \n",
       "4                         University of North Carolina  Southeast       $0.00   \n",
       "..                                                 ...        ...         ...   \n",
       "110                             University of Maryland  Southeast       $0.00   \n",
       "111                  University of Illinois at Chicago    Midwest  $52,000.00   \n",
       "112                             University of Michigan    Midwest  $56,000.00   \n",
       "113                                          Geisinger  Northeast       $0.00   \n",
       "114                                                NaN        NaN       $0.00   \n",
       "\n",
       "                            Description of opportunity  \n",
       "0    The one-year Academic Pharmacy Fellowship is d...  \n",
       "1    Roosevelt University College of Science, Healt...  \n",
       "2    This 12-month academic fellowship at Sullivan ...  \n",
       "3    The Fellowship in Clinical Pharmacy Education ...  \n",
       "4    The Center for Innovative Pharmacy Education a...  \n",
       "..                                                 ...  \n",
       "110  The University of Maryland Medical Center and ...  \n",
       "111  The University of Illinois at Chicago (UIC) Co...  \n",
       "112  The faculty in the department are seeking appl...  \n",
       "113  Responsible for conducting research under the ...  \n",
       "114                                                NaN  \n",
       "\n",
       "[115 rows x 4 columns]"
      ]
     },
     "execution_count": 7,
     "metadata": {},
     "output_type": "execute_result"
    }
   ],
   "source": [
    "# Create Series by assigning names\n",
    "Region = pd.Series(df[\"Region\"])\n",
    "Institution = pd.Series(df[\"Institution\"])\n",
    "Stipend = pd.Series(df[\"Stipend\"])\n",
    "Description_of_opportunity = pd.Series(df[\"Description of opportunity\"])\n",
    "\n",
    "# using pandas series merge()\n",
    "df2 = pd.merge(Institution, Region, right_index = True,\n",
    "               left_index = True)\n",
    "\n",
    "# using pandas series merge()\n",
    "df2 = pd.merge(df2, Stipend, right_index = True,\n",
    "               left_index = True)    \n",
    "                          \n",
    "# using pandas series merge()\n",
    "df2 = pd.merge(df2, Description_of_opportunity, right_index = True,\n",
    "               left_index = True)    \n",
    "               \n",
    "df2"
   ]
  },
  {
   "cell_type": "code",
   "execution_count": 8,
   "id": "56d01f20",
   "metadata": {
    "execution": {
     "iopub.execute_input": "2022-09-15T22:14:05.071717Z",
     "iopub.status.busy": "2022-09-15T22:14:05.071309Z",
     "iopub.status.idle": "2022-09-15T22:14:05.076119Z",
     "shell.execute_reply": "2022-09-15T22:14:05.075137Z"
    },
    "papermill": {
     "duration": 0.019281,
     "end_time": "2022-09-15T22:14:05.078250",
     "exception": false,
     "start_time": "2022-09-15T22:14:05.058969",
     "status": "completed"
    },
    "tags": []
   },
   "outputs": [],
   "source": [
    "stipend = []"
   ]
  },
  {
   "cell_type": "code",
   "execution_count": 9,
   "id": "ba790d1e",
   "metadata": {
    "execution": {
     "iopub.execute_input": "2022-09-15T22:14:05.101030Z",
     "iopub.status.busy": "2022-09-15T22:14:05.100030Z",
     "iopub.status.idle": "2022-09-15T22:14:05.107821Z",
     "shell.execute_reply": "2022-09-15T22:14:05.106510Z"
    },
    "papermill": {
     "duration": 0.022246,
     "end_time": "2022-09-15T22:14:05.110615",
     "exception": false,
     "start_time": "2022-09-15T22:14:05.088369",
     "status": "completed"
    },
    "tags": []
   },
   "outputs": [
    {
     "name": "stdout",
     "output_type": "stream",
     "text": [
      "[63750, 50000, 48000, 0, 0, 54000, 50000, 50000, 55000, 0, 45000, 0, 49500, 0, 0, 130000, 0, 50000, 60000, 58000, 50000, 0, 50000, 55224, 0, 0, 55000, 54840, 0, 52000, 54800, 60000, 58000, 0, 53000, 50000, 50000, 42519, 50000, 55000, 53000, 53000, 0, 50000, 0, 50000, 0, 55000, 51000, 52000, 52000, 51000, 50000, 0, 50000, 50000, 52500, 50353, 52000, 55000, 51300, 52704, 72000, 52850, 0, 47500, 45221, 50000, 47460, 54144, 54000, 60000, 50000, 0, 0, 43000, 0, 60000, 60000, 60000, 47000, 0, 0, 40716, 52000, 50000, 0, 55000, 54144, 50000, 55000, 50000, 63750, 50000, 50000, 51000, 54000, 54000, 42500, 40000, 56000, 0, 0, 50000, 42000, 54000, 45000, 55000, 48500, 48000, 0, 52000, 56000, 0, 0]\n"
     ]
    }
   ],
   "source": [
    "for x in df2[\"Stipend\"]: \n",
    "    x = x[1:]\n",
    "    y = re.sub('[,]', \"\", x[0:-3])\n",
    "    stipend.append(int(y))\n",
    "   \n",
    "print(stipend)"
   ]
  },
  {
   "cell_type": "code",
   "execution_count": 10,
   "id": "17ad0361",
   "metadata": {
    "execution": {
     "iopub.execute_input": "2022-09-15T22:14:05.135227Z",
     "iopub.status.busy": "2022-09-15T22:14:05.133823Z",
     "iopub.status.idle": "2022-09-15T22:14:05.142514Z",
     "shell.execute_reply": "2022-09-15T22:14:05.140907Z"
    },
    "papermill": {
     "duration": 0.023429,
     "end_time": "2022-09-15T22:14:05.144946",
     "exception": false,
     "start_time": "2022-09-15T22:14:05.121517",
     "status": "completed"
    },
    "tags": []
   },
   "outputs": [
    {
     "name": "stdout",
     "output_type": "stream",
     "text": [
      "Total Stipend Value: 4606275\n",
      "Average Stipend: 52945.68965517241\n"
     ]
    }
   ],
   "source": [
    "total = 0\n",
    "average = 0\n",
    "for x in stipend:    \n",
    "    \n",
    "    if x == 0:\n",
    "      #  print('x')\n",
    "       # print(x == 0)\n",
    "       pass\n",
    "    else:\n",
    "       # print(x)\n",
    "        total+=x\n",
    "        average +=1\n",
    "    \n",
    "print(f\"Total Stipend Value: {total}\")\n",
    "print(f\"Average Stipend: {total/average}\")"
   ]
  },
  {
   "cell_type": "code",
   "execution_count": 11,
   "id": "2462e1bd",
   "metadata": {
    "execution": {
     "iopub.execute_input": "2022-09-15T22:14:05.168133Z",
     "iopub.status.busy": "2022-09-15T22:14:05.167093Z",
     "iopub.status.idle": "2022-09-15T22:14:05.174625Z",
     "shell.execute_reply": "2022-09-15T22:14:05.173494Z"
    },
    "papermill": {
     "duration": 0.021614,
     "end_time": "2022-09-15T22:14:05.176947",
     "exception": false,
     "start_time": "2022-09-15T22:14:05.155333",
     "status": "completed"
    },
    "tags": []
   },
   "outputs": [],
   "source": [
    "df2.drop(columns=\"Stipend\", inplace=True)\n",
    "df2[\"Stipend\"] = stipend"
   ]
  },
  {
   "cell_type": "code",
   "execution_count": 12,
   "id": "2bd00305",
   "metadata": {
    "execution": {
     "iopub.execute_input": "2022-09-15T22:14:05.199524Z",
     "iopub.status.busy": "2022-09-15T22:14:05.199121Z",
     "iopub.status.idle": "2022-09-15T22:14:05.223185Z",
     "shell.execute_reply": "2022-09-15T22:14:05.222393Z"
    },
    "papermill": {
     "duration": 0.03857,
     "end_time": "2022-09-15T22:14:05.225960",
     "exception": false,
     "start_time": "2022-09-15T22:14:05.187390",
     "status": "completed"
    },
    "tags": []
   },
   "outputs": [
    {
     "name": "stderr",
     "output_type": "stream",
     "text": [
      "/opt/conda/lib/python3.7/site-packages/pandas/core/indexing.py:1732: SettingWithCopyWarning: \n",
      "A value is trying to be set on a copy of a slice from a DataFrame\n",
      "\n",
      "See the caveats in the documentation: https://pandas.pydata.org/pandas-docs/stable/user_guide/indexing.html#returning-a-view-versus-a-copy\n",
      "  self._setitem_single_block(indexer, value, name)\n"
     ]
    }
   ],
   "source": [
    "for x in range(0,len(df2[\"Stipend\"])):\n",
    "    if df2[\"Stipend\"].loc[x] == 0:\n",
    "        df2[\"Stipend\"].loc[x] = 52945\n",
    "    else:\n",
    "        pass"
   ]
  },
  {
   "cell_type": "code",
   "execution_count": 13,
   "id": "6819cdfe",
   "metadata": {
    "execution": {
     "iopub.execute_input": "2022-09-15T22:14:05.248454Z",
     "iopub.status.busy": "2022-09-15T22:14:05.248088Z",
     "iopub.status.idle": "2022-09-15T22:14:05.256091Z",
     "shell.execute_reply": "2022-09-15T22:14:05.255292Z"
    },
    "papermill": {
     "duration": 0.0219,
     "end_time": "2022-09-15T22:14:05.258229",
     "exception": false,
     "start_time": "2022-09-15T22:14:05.236329",
     "status": "completed"
    },
    "tags": []
   },
   "outputs": [
    {
     "data": {
      "text/plain": [
       "Institution                    1\n",
       "Region                        11\n",
       "Description of opportunity     1\n",
       "Stipend                        0\n",
       "dtype: int64"
      ]
     },
     "execution_count": 13,
     "metadata": {},
     "output_type": "execute_result"
    }
   ],
   "source": [
    "df2.isna().sum()"
   ]
  },
  {
   "cell_type": "code",
   "execution_count": 14,
   "id": "83d7cbf4",
   "metadata": {
    "execution": {
     "iopub.execute_input": "2022-09-15T22:14:05.281024Z",
     "iopub.status.busy": "2022-09-15T22:14:05.280660Z",
     "iopub.status.idle": "2022-09-15T22:14:05.284820Z",
     "shell.execute_reply": "2022-09-15T22:14:05.284022Z"
    },
    "papermill": {
     "duration": 0.017985,
     "end_time": "2022-09-15T22:14:05.286754",
     "exception": false,
     "start_time": "2022-09-15T22:14:05.268769",
     "status": "completed"
    },
    "tags": []
   },
   "outputs": [],
   "source": [
    "Region_list = ['Pacific', 'Midwest', 'Southeast', 'Rocky Mountain', 'Northeast']"
   ]
  },
  {
   "cell_type": "code",
   "execution_count": 15,
   "id": "9b6d24ce",
   "metadata": {
    "execution": {
     "iopub.execute_input": "2022-09-15T22:14:05.309741Z",
     "iopub.status.busy": "2022-09-15T22:14:05.309023Z",
     "iopub.status.idle": "2022-09-15T22:14:05.322413Z",
     "shell.execute_reply": "2022-09-15T22:14:05.321470Z"
    },
    "papermill": {
     "duration": 0.027466,
     "end_time": "2022-09-15T22:14:05.324697",
     "exception": false,
     "start_time": "2022-09-15T22:14:05.297231",
     "status": "completed"
    },
    "tags": []
   },
   "outputs": [],
   "source": [
    "for x in range(0,len(df2[\"Region\"])):\n",
    "    if df2[\"Region\"].loc[x] not in Region_list:\n",
    "        df2[\"Region\"].loc[x] = 'Unknown'\n",
    "    else:\n",
    "        pass"
   ]
  },
  {
   "cell_type": "code",
   "execution_count": 16,
   "id": "4549c0d3",
   "metadata": {
    "execution": {
     "iopub.execute_input": "2022-09-15T22:14:05.347628Z",
     "iopub.status.busy": "2022-09-15T22:14:05.346925Z",
     "iopub.status.idle": "2022-09-15T22:14:05.354873Z",
     "shell.execute_reply": "2022-09-15T22:14:05.353891Z"
    },
    "papermill": {
     "duration": 0.022212,
     "end_time": "2022-09-15T22:14:05.357346",
     "exception": false,
     "start_time": "2022-09-15T22:14:05.335134",
     "status": "completed"
    },
    "tags": []
   },
   "outputs": [],
   "source": [
    "df2.dropna(inplace=True)"
   ]
  },
  {
   "cell_type": "code",
   "execution_count": 17,
   "id": "5d9bba61",
   "metadata": {
    "execution": {
     "iopub.execute_input": "2022-09-15T22:14:05.380177Z",
     "iopub.status.busy": "2022-09-15T22:14:05.379769Z",
     "iopub.status.idle": "2022-09-15T22:14:05.387725Z",
     "shell.execute_reply": "2022-09-15T22:14:05.386921Z"
    },
    "papermill": {
     "duration": 0.021566,
     "end_time": "2022-09-15T22:14:05.389770",
     "exception": false,
     "start_time": "2022-09-15T22:14:05.368204",
     "status": "completed"
    },
    "tags": []
   },
   "outputs": [
    {
     "data": {
      "text/plain": [
       "Institution                   0\n",
       "Region                        0\n",
       "Description of opportunity    0\n",
       "Stipend                       0\n",
       "dtype: int64"
      ]
     },
     "execution_count": 17,
     "metadata": {},
     "output_type": "execute_result"
    }
   ],
   "source": [
    "df2.isna().sum()"
   ]
  },
  {
   "cell_type": "code",
   "execution_count": 18,
   "id": "0c56b073",
   "metadata": {
    "execution": {
     "iopub.execute_input": "2022-09-15T22:14:05.413560Z",
     "iopub.status.busy": "2022-09-15T22:14:05.412939Z",
     "iopub.status.idle": "2022-09-15T22:14:05.424203Z",
     "shell.execute_reply": "2022-09-15T22:14:05.423284Z"
    },
    "papermill": {
     "duration": 0.025912,
     "end_time": "2022-09-15T22:14:05.426320",
     "exception": false,
     "start_time": "2022-09-15T22:14:05.400408",
     "status": "completed"
    },
    "tags": []
   },
   "outputs": [
    {
     "data": {
      "text/html": [
       "<div>\n",
       "<style scoped>\n",
       "    .dataframe tbody tr th:only-of-type {\n",
       "        vertical-align: middle;\n",
       "    }\n",
       "\n",
       "    .dataframe tbody tr th {\n",
       "        vertical-align: top;\n",
       "    }\n",
       "\n",
       "    .dataframe thead th {\n",
       "        text-align: right;\n",
       "    }\n",
       "</style>\n",
       "<table border=\"1\" class=\"dataframe\">\n",
       "  <thead>\n",
       "    <tr style=\"text-align: right;\">\n",
       "      <th></th>\n",
       "      <th>Institution</th>\n",
       "      <th>Description of opportunity</th>\n",
       "      <th>Stipend</th>\n",
       "    </tr>\n",
       "    <tr>\n",
       "      <th>Region</th>\n",
       "      <th></th>\n",
       "      <th></th>\n",
       "      <th></th>\n",
       "    </tr>\n",
       "  </thead>\n",
       "  <tbody>\n",
       "    <tr>\n",
       "      <th>Midwest</th>\n",
       "      <td>27</td>\n",
       "      <td>27</td>\n",
       "      <td>27</td>\n",
       "    </tr>\n",
       "    <tr>\n",
       "      <th>Northeast</th>\n",
       "      <td>25</td>\n",
       "      <td>25</td>\n",
       "      <td>25</td>\n",
       "    </tr>\n",
       "    <tr>\n",
       "      <th>Pacific</th>\n",
       "      <td>9</td>\n",
       "      <td>9</td>\n",
       "      <td>9</td>\n",
       "    </tr>\n",
       "    <tr>\n",
       "      <th>Rocky Mountain</th>\n",
       "      <td>5</td>\n",
       "      <td>5</td>\n",
       "      <td>5</td>\n",
       "    </tr>\n",
       "    <tr>\n",
       "      <th>Southeast</th>\n",
       "      <td>33</td>\n",
       "      <td>33</td>\n",
       "      <td>33</td>\n",
       "    </tr>\n",
       "    <tr>\n",
       "      <th>Unknown</th>\n",
       "      <td>15</td>\n",
       "      <td>15</td>\n",
       "      <td>15</td>\n",
       "    </tr>\n",
       "  </tbody>\n",
       "</table>\n",
       "</div>"
      ],
      "text/plain": [
       "                Institution  Description of opportunity  Stipend\n",
       "Region                                                          \n",
       "Midwest                  27                          27       27\n",
       "Northeast                25                          25       25\n",
       "Pacific                   9                           9        9\n",
       "Rocky Mountain            5                           5        5\n",
       "Southeast                33                          33       33\n",
       "Unknown                  15                          15       15"
      ]
     },
     "execution_count": 18,
     "metadata": {},
     "output_type": "execute_result"
    }
   ],
   "source": [
    "df2.groupby(by='Region').agg('count')"
   ]
  },
  {
   "cell_type": "code",
   "execution_count": 19,
   "id": "e16f7ecf",
   "metadata": {
    "execution": {
     "iopub.execute_input": "2022-09-15T22:14:05.449486Z",
     "iopub.status.busy": "2022-09-15T22:14:05.448681Z",
     "iopub.status.idle": "2022-09-15T22:14:05.453153Z",
     "shell.execute_reply": "2022-09-15T22:14:05.452395Z"
    },
    "papermill": {
     "duration": 0.018355,
     "end_time": "2022-09-15T22:14:05.455255",
     "exception": false,
     "start_time": "2022-09-15T22:14:05.436900",
     "status": "completed"
    },
    "tags": []
   },
   "outputs": [],
   "source": [
    "from nltk.tokenize import sent_tokenize, word_tokenize\n",
    "from nltk.corpus import stopwords\n",
    "import re\n",
    "#stops = set(stopwords.words('english'))\n",
    "#print(stops)"
   ]
  },
  {
   "cell_type": "code",
   "execution_count": 20,
   "id": "6203d207",
   "metadata": {
    "execution": {
     "iopub.execute_input": "2022-09-15T22:14:05.478450Z",
     "iopub.status.busy": "2022-09-15T22:14:05.477866Z",
     "iopub.status.idle": "2022-09-15T22:14:05.482027Z",
     "shell.execute_reply": "2022-09-15T22:14:05.481272Z"
    },
    "papermill": {
     "duration": 0.018232,
     "end_time": "2022-09-15T22:14:05.484099",
     "exception": false,
     "start_time": "2022-09-15T22:14:05.465867",
     "status": "completed"
    },
    "tags": []
   },
   "outputs": [],
   "source": [
    "tokens_list = []"
   ]
  },
  {
   "cell_type": "code",
   "execution_count": 21,
   "id": "b1045bf0",
   "metadata": {
    "execution": {
     "iopub.execute_input": "2022-09-15T22:14:05.507851Z",
     "iopub.status.busy": "2022-09-15T22:14:05.507241Z",
     "iopub.status.idle": "2022-09-15T22:14:05.514421Z",
     "shell.execute_reply": "2022-09-15T22:14:05.513545Z"
    },
    "papermill": {
     "duration": 0.021682,
     "end_time": "2022-09-15T22:14:05.516640",
     "exception": false,
     "start_time": "2022-09-15T22:14:05.494958",
     "status": "completed"
    },
    "tags": []
   },
   "outputs": [],
   "source": [
    "for x in range(0,len(df2[\"Description of opportunity\"])):\n",
    "    t = df2[\"Description of opportunity\"].loc[x] \n",
    "    tokens_list.append(t)\n",
    "    #tokens = nltk.word_tokenize(df2[\"Description of opportunity\"][0])"
   ]
  },
  {
   "cell_type": "code",
   "execution_count": 22,
   "id": "6ad50f5a",
   "metadata": {
    "execution": {
     "iopub.execute_input": "2022-09-15T22:14:05.540508Z",
     "iopub.status.busy": "2022-09-15T22:14:05.539913Z",
     "iopub.status.idle": "2022-09-15T22:14:05.657979Z",
     "shell.execute_reply": "2022-09-15T22:14:05.656954Z"
    },
    "papermill": {
     "duration": 0.133462,
     "end_time": "2022-09-15T22:14:05.660992",
     "exception": false,
     "start_time": "2022-09-15T22:14:05.527530",
     "status": "completed"
    },
    "tags": []
   },
   "outputs": [],
   "source": [
    "token_words = ' '.join(tokens_list)\n",
    "tokens = nltk.word_tokenize(token_words)\n",
    "#token_l = nltk.Text(tokens)"
   ]
  },
  {
   "cell_type": "code",
   "execution_count": 23,
   "id": "8131d57a",
   "metadata": {
    "execution": {
     "iopub.execute_input": "2022-09-15T22:14:05.684605Z",
     "iopub.status.busy": "2022-09-15T22:14:05.684194Z",
     "iopub.status.idle": "2022-09-15T22:14:05.703625Z",
     "shell.execute_reply": "2022-09-15T22:14:05.702684Z"
    },
    "papermill": {
     "duration": 0.034282,
     "end_time": "2022-09-15T22:14:05.706200",
     "exception": false,
     "start_time": "2022-09-15T22:14:05.671918",
     "status": "completed"
    },
    "tags": []
   },
   "outputs": [],
   "source": [
    "stopWords = set(stopwords.words('english'))\n",
    "stopWords_custom = [\"The\", \".\", \",\", \":\",\";\", \")\", \"(\",\"’\",\"&\",\"•\",\"%\",\"This\"]\n",
    "#words = word_tokenize(data)\n",
    "wordsFiltered = []\n",
    "\n",
    "for w in tokens:\n",
    "    if w not in stopWords:\n",
    "        if w in stopWords_custom:\n",
    "            pass\n",
    "        else:\n",
    "            wordsFiltered.append(w)\n",
    "#print(wordsFiltered)"
   ]
  },
  {
   "cell_type": "code",
   "execution_count": 24,
   "id": "7fc52ebd",
   "metadata": {
    "execution": {
     "iopub.execute_input": "2022-09-15T22:14:05.729929Z",
     "iopub.status.busy": "2022-09-15T22:14:05.729251Z",
     "iopub.status.idle": "2022-09-15T22:14:05.737472Z",
     "shell.execute_reply": "2022-09-15T22:14:05.736407Z"
    },
    "papermill": {
     "duration": 0.022728,
     "end_time": "2022-09-15T22:14:05.739759",
     "exception": false,
     "start_time": "2022-09-15T22:14:05.717031",
     "status": "completed"
    },
    "tags": []
   },
   "outputs": [],
   "source": [
    "from collections import Counter\n",
    "most_occur = []\n",
    "  \n",
    "# Pass the split_it list to instance of Counter class.\n",
    "Counter = Counter(wordsFiltered)\n",
    "  \n",
    "# most_common() produces k frequently encountered\n",
    "# input values and their respective counts.\n",
    "most_occur = Counter.most_common(100) \n",
    "#print(most_occur)"
   ]
  },
  {
   "cell_type": "code",
   "execution_count": 25,
   "id": "b3ec234a",
   "metadata": {
    "execution": {
     "iopub.execute_input": "2022-09-15T22:14:05.763371Z",
     "iopub.status.busy": "2022-09-15T22:14:05.762663Z",
     "iopub.status.idle": "2022-09-15T22:14:05.773785Z",
     "shell.execute_reply": "2022-09-15T22:14:05.772960Z"
    },
    "papermill": {
     "duration": 0.025195,
     "end_time": "2022-09-15T22:14:05.775794",
     "exception": false,
     "start_time": "2022-09-15T22:14:05.750599",
     "status": "completed"
    },
    "tags": []
   },
   "outputs": [
    {
     "data": {
      "text/plain": [
       "[('research', 206),\n",
       " ('clinical', 134),\n",
       " ('program', 115),\n",
       " ('fellowship', 106),\n",
       " ('fellow', 102),\n",
       " ('Pharmacy', 84),\n",
       " ('experience', 81),\n",
       " ('training', 74),\n",
       " ('pharmacy', 74),\n",
       " ('health', 70),\n",
       " ('practice', 69),\n",
       " ('University', 56),\n",
       " ('skills', 54),\n",
       " ('teaching', 52),\n",
       " ('Fellowship', 47),\n",
       " ('care', 47),\n",
       " ('provide', 45),\n",
       " ('Health', 44),\n",
       " ('development', 40),\n",
       " ('drug', 40),\n",
       " ('Clinical', 38),\n",
       " ('faculty', 36),\n",
       " ('education', 35),\n",
       " ('Fellows', 34),\n",
       " ('design', 33),\n",
       " ('outcomes', 33),\n",
       " ('develop', 32),\n",
       " ('work', 32),\n",
       " ('information', 31),\n",
       " ('management', 31),\n",
       " ('College', 30),\n",
       " ('Research', 30),\n",
       " ('gain', 30),\n",
       " ('School', 29),\n",
       " ('also', 29),\n",
       " ('opportunity', 28),\n",
       " ('industry', 28),\n",
       " ('Center', 26),\n",
       " ('including', 25),\n",
       " ('year', 25),\n",
       " ('include', 24),\n",
       " ('academic', 24),\n",
       " ('career', 24),\n",
       " ('data', 24),\n",
       " ('designed', 23),\n",
       " ('analysis', 23),\n",
       " ('participate', 23),\n",
       " ('patient', 23),\n",
       " ('Fellow', 22),\n",
       " ('writing', 22),\n",
       " ('programs', 21),\n",
       " ('services', 21),\n",
       " ('2-year', 21),\n",
       " ('prepare', 21),\n",
       " ('activities', 21),\n",
       " ('fellows', 21),\n",
       " ('PharmD', 20),\n",
       " ('available', 20),\n",
       " ('within', 20),\n",
       " ('quality', 19),\n",
       " ('medical', 19),\n",
       " ('opportunities', 18),\n",
       " ('goal', 18),\n",
       " ('projects', 18),\n",
       " ('pharmaceutical', 18),\n",
       " ('students', 17),\n",
       " ('offers', 17),\n",
       " ('scientific', 17),\n",
       " ('conduct', 17),\n",
       " ('developing', 17),\n",
       " ('based', 17),\n",
       " ('Medical', 17),\n",
       " ('expected', 16),\n",
       " ('scholarship', 16),\n",
       " ('areas', 16),\n",
       " ('grant', 16),\n",
       " ('national', 15),\n",
       " ('residency', 15),\n",
       " ('healthcare', 15),\n",
       " ('position', 15),\n",
       " ('provides', 15),\n",
       " ('didactic', 14),\n",
       " ('learning', 14),\n",
       " ('focus', 14),\n",
       " ('fellowships', 14),\n",
       " ('independent', 14),\n",
       " ('academia', 14),\n",
       " ('leadership', 14),\n",
       " ('coursework', 14),\n",
       " ('implementation', 14),\n",
       " ('Academic', 13),\n",
       " ('leaders', 13),\n",
       " ('experiences', 13),\n",
       " ('study', 13),\n",
       " ('preparation', 13),\n",
       " ('UNC', 13),\n",
       " ('member', 13),\n",
       " ('pharmacists', 13),\n",
       " ('population', 13),\n",
       " ('knowledge', 13)]"
      ]
     },
     "execution_count": 25,
     "metadata": {},
     "output_type": "execute_result"
    }
   ],
   "source": [
    "most_occur[:100]"
   ]
  },
  {
   "cell_type": "code",
   "execution_count": 26,
   "id": "5988a231",
   "metadata": {
    "execution": {
     "iopub.execute_input": "2022-09-15T22:14:05.800293Z",
     "iopub.status.busy": "2022-09-15T22:14:05.799883Z",
     "iopub.status.idle": "2022-09-15T22:14:05.805857Z",
     "shell.execute_reply": "2022-09-15T22:14:05.805119Z"
    },
    "papermill": {
     "duration": 0.02056,
     "end_time": "2022-09-15T22:14:05.807811",
     "exception": false,
     "start_time": "2022-09-15T22:14:05.787251",
     "status": "completed"
    },
    "tags": []
   },
   "outputs": [
    {
     "data": {
      "text/plain": [
       "<Text: The one-year Academic Pharmacy Fellowship is designed to...>"
      ]
     },
     "execution_count": 26,
     "metadata": {},
     "output_type": "execute_result"
    }
   ],
   "source": [
    "text = nltk.Text(tokens)\n",
    "text"
   ]
  },
  {
   "cell_type": "code",
   "execution_count": 27,
   "id": "224ee74e",
   "metadata": {
    "execution": {
     "iopub.execute_input": "2022-09-15T22:14:05.831842Z",
     "iopub.status.busy": "2022-09-15T22:14:05.831130Z",
     "iopub.status.idle": "2022-09-15T22:14:05.837005Z",
     "shell.execute_reply": "2022-09-15T22:14:05.836257Z"
    },
    "papermill": {
     "duration": 0.020205,
     "end_time": "2022-09-15T22:14:05.838997",
     "exception": false,
     "start_time": "2022-09-15T22:14:05.818792",
     "status": "completed"
    },
    "tags": []
   },
   "outputs": [
    {
     "data": {
      "text/plain": [
       "Index(['Type of Program', 'Primary Setting', 'Description of opportunity',\n",
       "       'Preceptor', 'Institution', 'Length (Yrs)', 'Start Date', 'Stipend',\n",
       "       'Number of These Positions', 'Region', 'Program Website', 'Contact',\n",
       "       'Web ID', 'Last Modified'],\n",
       "      dtype='object')"
      ]
     },
     "execution_count": 27,
     "metadata": {},
     "output_type": "execute_result"
    }
   ],
   "source": [
    "df.columns"
   ]
  },
  {
   "cell_type": "code",
   "execution_count": 28,
   "id": "4ab115fb",
   "metadata": {
    "execution": {
     "iopub.execute_input": "2022-09-15T22:14:05.863749Z",
     "iopub.status.busy": "2022-09-15T22:14:05.863035Z",
     "iopub.status.idle": "2022-09-15T22:14:05.879896Z",
     "shell.execute_reply": "2022-09-15T22:14:05.879118Z"
    },
    "papermill": {
     "duration": 0.031759,
     "end_time": "2022-09-15T22:14:05.881985",
     "exception": false,
     "start_time": "2022-09-15T22:14:05.850226",
     "status": "completed"
    },
    "tags": []
   },
   "outputs": [
    {
     "data": {
      "text/html": [
       "<div>\n",
       "<style scoped>\n",
       "    .dataframe tbody tr th:only-of-type {\n",
       "        vertical-align: middle;\n",
       "    }\n",
       "\n",
       "    .dataframe tbody tr th {\n",
       "        vertical-align: top;\n",
       "    }\n",
       "\n",
       "    .dataframe thead th {\n",
       "        text-align: right;\n",
       "    }\n",
       "</style>\n",
       "<table border=\"1\" class=\"dataframe\">\n",
       "  <thead>\n",
       "    <tr style=\"text-align: right;\">\n",
       "      <th></th>\n",
       "      <th>Preceptor</th>\n",
       "      <th>Institution</th>\n",
       "      <th>Contact</th>\n",
       "    </tr>\n",
       "  </thead>\n",
       "  <tbody>\n",
       "    <tr>\n",
       "      <th>0</th>\n",
       "      <td>Dr. William Gong</td>\n",
       "      <td>University of Southern California</td>\n",
       "      <td>Dr. William GongUniversity of Southern Califor...</td>\n",
       "    </tr>\n",
       "    <tr>\n",
       "      <th>1</th>\n",
       "      <td>Dan Majerczyk, Pharm.D. or Nicole Alvey, Pharm.D.</td>\n",
       "      <td>Roosevelt University College of Science, Healt...</td>\n",
       "      <td>Dan Majerczyk, Pharm.D. or Nicole Alvey, Pharm...</td>\n",
       "    </tr>\n",
       "    <tr>\n",
       "      <th>2</th>\n",
       "      <td>Kim Elder</td>\n",
       "      <td>Sullivan University College of Pharmacy and He...</td>\n",
       "      <td>Kim ElderSullivan University College of Pharma...</td>\n",
       "    </tr>\n",
       "    <tr>\n",
       "      <th>3</th>\n",
       "      <td>Dana Jamero</td>\n",
       "      <td>Xavier University of Louisiana</td>\n",
       "      <td>Dana JameroXavier University of Louisiana1 Dre...</td>\n",
       "    </tr>\n",
       "    <tr>\n",
       "      <th>4</th>\n",
       "      <td>Susan Charamut</td>\n",
       "      <td>University of North Carolina</td>\n",
       "      <td>Susan CharamutUniversity of North Carolina301 ...</td>\n",
       "    </tr>\n",
       "    <tr>\n",
       "      <th>...</th>\n",
       "      <td>...</td>\n",
       "      <td>...</td>\n",
       "      <td>...</td>\n",
       "    </tr>\n",
       "    <tr>\n",
       "      <th>110</th>\n",
       "      <td>Bruce Anderson, PharmD, DABAT, FACCT</td>\n",
       "      <td>University of Maryland</td>\n",
       "      <td>Bruce Anderson, PharmD, DABAT, FACCTUniversity...</td>\n",
       "    </tr>\n",
       "    <tr>\n",
       "      <th>111</th>\n",
       "      <td>Jennie Jarrett, PharmD, BCPS, MMedEd, FCCP</td>\n",
       "      <td>University of Illinois at Chicago</td>\n",
       "      <td>Jennie Jarrett, PharmD, BCPS, MMedEd, FCCPUniv...</td>\n",
       "    </tr>\n",
       "    <tr>\n",
       "      <th>112</th>\n",
       "      <td>Karen Farris</td>\n",
       "      <td>University of Michigan</td>\n",
       "      <td>Karen FarrisUniversity of Michigan428 Church S...</td>\n",
       "    </tr>\n",
       "    <tr>\n",
       "      <th>113</th>\n",
       "      <td>Laney Jones</td>\n",
       "      <td>Geisinger</td>\n",
       "      <td>Laney JonesGeisinger100 N Academy AveDanville,...</td>\n",
       "    </tr>\n",
       "    <tr>\n",
       "      <th>114</th>\n",
       "      <td>NaN</td>\n",
       "      <td>NaN</td>\n",
       "      <td>NaN</td>\n",
       "    </tr>\n",
       "  </tbody>\n",
       "</table>\n",
       "<p>115 rows × 3 columns</p>\n",
       "</div>"
      ],
      "text/plain": [
       "                                             Preceptor  \\\n",
       "0                                     Dr. William Gong   \n",
       "1    Dan Majerczyk, Pharm.D. or Nicole Alvey, Pharm.D.   \n",
       "2                                            Kim Elder   \n",
       "3                                          Dana Jamero   \n",
       "4                                       Susan Charamut   \n",
       "..                                                 ...   \n",
       "110               Bruce Anderson, PharmD, DABAT, FACCT   \n",
       "111         Jennie Jarrett, PharmD, BCPS, MMedEd, FCCP   \n",
       "112                                       Karen Farris   \n",
       "113                                        Laney Jones   \n",
       "114                                                NaN   \n",
       "\n",
       "                                           Institution  \\\n",
       "0                    University of Southern California   \n",
       "1    Roosevelt University College of Science, Healt...   \n",
       "2    Sullivan University College of Pharmacy and He...   \n",
       "3                       Xavier University of Louisiana   \n",
       "4                         University of North Carolina   \n",
       "..                                                 ...   \n",
       "110                             University of Maryland   \n",
       "111                  University of Illinois at Chicago   \n",
       "112                             University of Michigan   \n",
       "113                                          Geisinger   \n",
       "114                                                NaN   \n",
       "\n",
       "                                               Contact  \n",
       "0    Dr. William GongUniversity of Southern Califor...  \n",
       "1    Dan Majerczyk, Pharm.D. or Nicole Alvey, Pharm...  \n",
       "2    Kim ElderSullivan University College of Pharma...  \n",
       "3    Dana JameroXavier University of Louisiana1 Dre...  \n",
       "4    Susan CharamutUniversity of North Carolina301 ...  \n",
       "..                                                 ...  \n",
       "110  Bruce Anderson, PharmD, DABAT, FACCTUniversity...  \n",
       "111  Jennie Jarrett, PharmD, BCPS, MMedEd, FCCPUniv...  \n",
       "112  Karen FarrisUniversity of Michigan428 Church S...  \n",
       "113  Laney JonesGeisinger100 N Academy AveDanville,...  \n",
       "114                                                NaN  \n",
       "\n",
       "[115 rows x 3 columns]"
      ]
     },
     "execution_count": 28,
     "metadata": {},
     "output_type": "execute_result"
    }
   ],
   "source": [
    "# Create Series by assigning names\n",
    "Preceptor = pd.Series(df[\"Preceptor\"])\n",
    "Institution = pd.Series(df[\"Institution\"])\n",
    "Contact = pd.Series(df[\"Contact\"])\n",
    "\n",
    "# using pandas series merge()\n",
    "df3 = pd.merge(Preceptor, Institution, right_index = True,\n",
    "               left_index = True)\n",
    "\n",
    "# using pandas series merge()\n",
    "df3 = pd.merge(df3, Contact, right_index = True,\n",
    "               left_index = True)     \n",
    "               \n",
    "df3"
   ]
  },
  {
   "cell_type": "code",
   "execution_count": 29,
   "id": "ec0b0210",
   "metadata": {
    "execution": {
     "iopub.execute_input": "2022-09-15T22:14:05.906816Z",
     "iopub.status.busy": "2022-09-15T22:14:05.906135Z",
     "iopub.status.idle": "2022-09-15T22:14:05.912718Z",
     "shell.execute_reply": "2022-09-15T22:14:05.911709Z"
    },
    "papermill": {
     "duration": 0.021635,
     "end_time": "2022-09-15T22:14:05.915090",
     "exception": false,
     "start_time": "2022-09-15T22:14:05.893455",
     "status": "completed"
    },
    "tags": []
   },
   "outputs": [],
   "source": [
    "df3.dropna(inplace=True)\n",
    "#df3.isna().sum()"
   ]
  },
  {
   "cell_type": "code",
   "execution_count": 30,
   "id": "4c402aec",
   "metadata": {
    "execution": {
     "iopub.execute_input": "2022-09-15T22:14:05.939645Z",
     "iopub.status.busy": "2022-09-15T22:14:05.938938Z",
     "iopub.status.idle": "2022-09-15T22:14:05.944781Z",
     "shell.execute_reply": "2022-09-15T22:14:05.944082Z"
    },
    "papermill": {
     "duration": 0.020319,
     "end_time": "2022-09-15T22:14:05.946677",
     "exception": false,
     "start_time": "2022-09-15T22:14:05.926358",
     "status": "completed"
    },
    "tags": []
   },
   "outputs": [
    {
     "data": {
      "text/plain": [
       "'Dr. William GongUniversity of Southern California1985 Zonal AvenueLos Angeles, CA 90089(323) 442-2625 (Phone)wgong@usc.edu'"
      ]
     },
     "execution_count": 30,
     "metadata": {},
     "output_type": "execute_result"
    }
   ],
   "source": [
    "df[\"Contact\"][0]"
   ]
  },
  {
   "cell_type": "code",
   "execution_count": 31,
   "id": "f84c2b64",
   "metadata": {
    "execution": {
     "iopub.execute_input": "2022-09-15T22:14:05.971632Z",
     "iopub.status.busy": "2022-09-15T22:14:05.970711Z",
     "iopub.status.idle": "2022-09-15T22:14:05.976458Z",
     "shell.execute_reply": "2022-09-15T22:14:05.975681Z"
    },
    "papermill": {
     "duration": 0.020359,
     "end_time": "2022-09-15T22:14:05.978615",
     "exception": false,
     "start_time": "2022-09-15T22:14:05.958256",
     "status": "completed"
    },
    "tags": []
   },
   "outputs": [],
   "source": [
    "Email = []\n",
    "for x in df3[\"Contact\"]: \n",
    "    #x.split(\"(Phone)\")\n",
    "    #print(x)\n",
    "    # Remove all characters before the character '-' from string\n",
    "    listOfWords = x.split(\"(Phone)\", 1)\n",
    "    if len(listOfWords) > 0: \n",
    "        strValue = listOfWords[1]\n",
    "    Email.append(strValue)"
   ]
  },
  {
   "cell_type": "code",
   "execution_count": 32,
   "id": "59d4d743",
   "metadata": {
    "execution": {
     "iopub.execute_input": "2022-09-15T22:14:06.003513Z",
     "iopub.status.busy": "2022-09-15T22:14:06.003076Z",
     "iopub.status.idle": "2022-09-15T22:14:06.009392Z",
     "shell.execute_reply": "2022-09-15T22:14:06.008436Z"
    },
    "papermill": {
     "duration": 0.021708,
     "end_time": "2022-09-15T22:14:06.011670",
     "exception": false,
     "start_time": "2022-09-15T22:14:05.989962",
     "status": "completed"
    },
    "tags": []
   },
   "outputs": [],
   "source": [
    "df3.drop(columns=\"Contact\", inplace=True)\n",
    "df3[\"Email\"] = Email"
   ]
  },
  {
   "cell_type": "code",
   "execution_count": 33,
   "id": "f6ff54e6",
   "metadata": {
    "execution": {
     "iopub.execute_input": "2022-09-15T22:14:06.036896Z",
     "iopub.status.busy": "2022-09-15T22:14:06.036178Z",
     "iopub.status.idle": "2022-09-15T22:14:06.040154Z",
     "shell.execute_reply": "2022-09-15T22:14:06.039333Z"
    },
    "papermill": {
     "duration": 0.018942,
     "end_time": "2022-09-15T22:14:06.042271",
     "exception": false,
     "start_time": "2022-09-15T22:14:06.023329",
     "status": "completed"
    },
    "tags": []
   },
   "outputs": [],
   "source": [
    "#df3.to_csv(\"midYearFellowshipEmails.csv\",index=False)"
   ]
  },
  {
   "cell_type": "markdown",
   "id": "072708c8",
   "metadata": {
    "papermill": {
     "duration": 0.010964,
     "end_time": "2022-09-15T22:14:06.064723",
     "exception": false,
     "start_time": "2022-09-15T22:14:06.053759",
     "status": "completed"
    },
    "tags": []
   },
   "source": [
    "# Create CSV file to use in Tableau"
   ]
  },
  {
   "cell_type": "code",
   "execution_count": 34,
   "id": "8c1300e0",
   "metadata": {
    "execution": {
     "iopub.execute_input": "2022-09-15T22:14:06.089269Z",
     "iopub.status.busy": "2022-09-15T22:14:06.088555Z",
     "iopub.status.idle": "2022-09-15T22:14:06.094469Z",
     "shell.execute_reply": "2022-09-15T22:14:06.093689Z"
    },
    "papermill": {
     "duration": 0.020441,
     "end_time": "2022-09-15T22:14:06.096409",
     "exception": false,
     "start_time": "2022-09-15T22:14:06.075968",
     "status": "completed"
    },
    "tags": []
   },
   "outputs": [
    {
     "data": {
      "text/plain": [
       "Index(['Type of Program', 'Primary Setting', 'Description of opportunity',\n",
       "       'Preceptor', 'Institution', 'Length (Yrs)', 'Start Date', 'Stipend',\n",
       "       'Number of These Positions', 'Region', 'Program Website', 'Contact',\n",
       "       'Web ID', 'Last Modified'],\n",
       "      dtype='object')"
      ]
     },
     "execution_count": 34,
     "metadata": {},
     "output_type": "execute_result"
    }
   ],
   "source": [
    "df.columns"
   ]
  },
  {
   "cell_type": "code",
   "execution_count": 35,
   "id": "4026bcbf",
   "metadata": {
    "execution": {
     "iopub.execute_input": "2022-09-15T22:14:06.121850Z",
     "iopub.status.busy": "2022-09-15T22:14:06.121127Z",
     "iopub.status.idle": "2022-09-15T22:14:06.126422Z",
     "shell.execute_reply": "2022-09-15T22:14:06.125510Z"
    },
    "papermill": {
     "duration": 0.020441,
     "end_time": "2022-09-15T22:14:06.128547",
     "exception": false,
     "start_time": "2022-09-15T22:14:06.108106",
     "status": "completed"
    },
    "tags": []
   },
   "outputs": [],
   "source": [
    "df4 = df2.drop(columns=\"Description of opportunity\")"
   ]
  },
  {
   "cell_type": "code",
   "execution_count": 36,
   "id": "dd6cf85d",
   "metadata": {
    "execution": {
     "iopub.execute_input": "2022-09-15T22:14:06.153730Z",
     "iopub.status.busy": "2022-09-15T22:14:06.153012Z",
     "iopub.status.idle": "2022-09-15T22:14:06.160947Z",
     "shell.execute_reply": "2022-09-15T22:14:06.160127Z"
    },
    "papermill": {
     "duration": 0.022959,
     "end_time": "2022-09-15T22:14:06.163044",
     "exception": false,
     "start_time": "2022-09-15T22:14:06.140085",
     "status": "completed"
    },
    "tags": []
   },
   "outputs": [
    {
     "data": {
      "text/plain": [
       "Institution    0\n",
       "Region         0\n",
       "Stipend        0\n",
       "dtype: int64"
      ]
     },
     "execution_count": 36,
     "metadata": {},
     "output_type": "execute_result"
    }
   ],
   "source": [
    "df4.isna().sum()"
   ]
  },
  {
   "cell_type": "code",
   "execution_count": 37,
   "id": "4110a786",
   "metadata": {
    "execution": {
     "iopub.execute_input": "2022-09-15T22:14:06.188864Z",
     "iopub.status.busy": "2022-09-15T22:14:06.188194Z",
     "iopub.status.idle": "2022-09-15T22:14:06.200228Z",
     "shell.execute_reply": "2022-09-15T22:14:06.199277Z"
    },
    "papermill": {
     "duration": 0.027777,
     "end_time": "2022-09-15T22:14:06.202562",
     "exception": false,
     "start_time": "2022-09-15T22:14:06.174785",
     "status": "completed"
    },
    "tags": []
   },
   "outputs": [
    {
     "data": {
      "text/html": [
       "<div>\n",
       "<style scoped>\n",
       "    .dataframe tbody tr th:only-of-type {\n",
       "        vertical-align: middle;\n",
       "    }\n",
       "\n",
       "    .dataframe tbody tr th {\n",
       "        vertical-align: top;\n",
       "    }\n",
       "\n",
       "    .dataframe thead th {\n",
       "        text-align: right;\n",
       "    }\n",
       "</style>\n",
       "<table border=\"1\" class=\"dataframe\">\n",
       "  <thead>\n",
       "    <tr style=\"text-align: right;\">\n",
       "      <th></th>\n",
       "      <th>Institution</th>\n",
       "      <th>Region</th>\n",
       "      <th>Stipend</th>\n",
       "    </tr>\n",
       "  </thead>\n",
       "  <tbody>\n",
       "    <tr>\n",
       "      <th>0</th>\n",
       "      <td>University of Southern California</td>\n",
       "      <td>Pacific</td>\n",
       "      <td>63750</td>\n",
       "    </tr>\n",
       "    <tr>\n",
       "      <th>1</th>\n",
       "      <td>Roosevelt University College of Science, Healt...</td>\n",
       "      <td>Midwest</td>\n",
       "      <td>50000</td>\n",
       "    </tr>\n",
       "    <tr>\n",
       "      <th>2</th>\n",
       "      <td>Sullivan University College of Pharmacy and He...</td>\n",
       "      <td>Southeast</td>\n",
       "      <td>48000</td>\n",
       "    </tr>\n",
       "    <tr>\n",
       "      <th>3</th>\n",
       "      <td>Xavier University of Louisiana</td>\n",
       "      <td>Southeast</td>\n",
       "      <td>52945</td>\n",
       "    </tr>\n",
       "    <tr>\n",
       "      <th>4</th>\n",
       "      <td>University of North Carolina</td>\n",
       "      <td>Southeast</td>\n",
       "      <td>52945</td>\n",
       "    </tr>\n",
       "    <tr>\n",
       "      <th>...</th>\n",
       "      <td>...</td>\n",
       "      <td>...</td>\n",
       "      <td>...</td>\n",
       "    </tr>\n",
       "    <tr>\n",
       "      <th>109</th>\n",
       "      <td>Indiana University Health/Indiana Poison Center</td>\n",
       "      <td>Midwest</td>\n",
       "      <td>48000</td>\n",
       "    </tr>\n",
       "    <tr>\n",
       "      <th>110</th>\n",
       "      <td>University of Maryland</td>\n",
       "      <td>Southeast</td>\n",
       "      <td>52945</td>\n",
       "    </tr>\n",
       "    <tr>\n",
       "      <th>111</th>\n",
       "      <td>University of Illinois at Chicago</td>\n",
       "      <td>Midwest</td>\n",
       "      <td>52000</td>\n",
       "    </tr>\n",
       "    <tr>\n",
       "      <th>112</th>\n",
       "      <td>University of Michigan</td>\n",
       "      <td>Midwest</td>\n",
       "      <td>56000</td>\n",
       "    </tr>\n",
       "    <tr>\n",
       "      <th>113</th>\n",
       "      <td>Geisinger</td>\n",
       "      <td>Northeast</td>\n",
       "      <td>52945</td>\n",
       "    </tr>\n",
       "  </tbody>\n",
       "</table>\n",
       "<p>114 rows × 3 columns</p>\n",
       "</div>"
      ],
      "text/plain": [
       "                                           Institution     Region  Stipend\n",
       "0                    University of Southern California    Pacific    63750\n",
       "1    Roosevelt University College of Science, Healt...    Midwest    50000\n",
       "2    Sullivan University College of Pharmacy and He...  Southeast    48000\n",
       "3                       Xavier University of Louisiana  Southeast    52945\n",
       "4                         University of North Carolina  Southeast    52945\n",
       "..                                                 ...        ...      ...\n",
       "109    Indiana University Health/Indiana Poison Center    Midwest    48000\n",
       "110                             University of Maryland  Southeast    52945\n",
       "111                  University of Illinois at Chicago    Midwest    52000\n",
       "112                             University of Michigan    Midwest    56000\n",
       "113                                          Geisinger  Northeast    52945\n",
       "\n",
       "[114 rows x 3 columns]"
      ]
     },
     "execution_count": 37,
     "metadata": {},
     "output_type": "execute_result"
    }
   ],
   "source": [
    "df4"
   ]
  },
  {
   "cell_type": "code",
   "execution_count": 38,
   "id": "953f5c25",
   "metadata": {
    "execution": {
     "iopub.execute_input": "2022-09-15T22:14:06.229404Z",
     "iopub.status.busy": "2022-09-15T22:14:06.228661Z",
     "iopub.status.idle": "2022-09-15T22:14:06.234743Z",
     "shell.execute_reply": "2022-09-15T22:14:06.233917Z"
    },
    "papermill": {
     "duration": 0.021832,
     "end_time": "2022-09-15T22:14:06.236770",
     "exception": false,
     "start_time": "2022-09-15T22:14:06.214938",
     "status": "completed"
    },
    "tags": []
   },
   "outputs": [
    {
     "data": {
      "text/plain": [
       "Index(['Institution', 'Region', 'Stipend'], dtype='object')"
      ]
     },
     "execution_count": 38,
     "metadata": {},
     "output_type": "execute_result"
    }
   ],
   "source": [
    "df4.columns"
   ]
  },
  {
   "cell_type": "code",
   "execution_count": 39,
   "id": "4296ed58",
   "metadata": {
    "execution": {
     "iopub.execute_input": "2022-09-15T22:14:06.264098Z",
     "iopub.status.busy": "2022-09-15T22:14:06.263398Z",
     "iopub.status.idle": "2022-09-15T22:14:06.267573Z",
     "shell.execute_reply": "2022-09-15T22:14:06.266637Z"
    },
    "papermill": {
     "duration": 0.020329,
     "end_time": "2022-09-15T22:14:06.269592",
     "exception": false,
     "start_time": "2022-09-15T22:14:06.249263",
     "status": "completed"
    },
    "tags": []
   },
   "outputs": [],
   "source": [
    "#df4.to_csv(\"midYearFellowshipLight.csv\", index=False)"
   ]
  }
 ],
 "metadata": {
  "kernelspec": {
   "display_name": "Python 3",
   "language": "python",
   "name": "python3"
  },
  "language_info": {
   "codemirror_mode": {
    "name": "ipython",
    "version": 3
   },
   "file_extension": ".py",
   "mimetype": "text/x-python",
   "name": "python",
   "nbconvert_exporter": "python",
   "pygments_lexer": "ipython3",
   "version": "3.7.12"
  },
  "papermill": {
   "default_parameters": {},
   "duration": 13.044492,
   "end_time": "2022-09-15T22:14:07.103806",
   "environment_variables": {},
   "exception": null,
   "input_path": "__notebook__.ipynb",
   "output_path": "__notebook__.ipynb",
   "parameters": {},
   "start_time": "2022-09-15T22:13:54.059314",
   "version": "2.3.4"
  }
 },
 "nbformat": 4,
 "nbformat_minor": 5
}
